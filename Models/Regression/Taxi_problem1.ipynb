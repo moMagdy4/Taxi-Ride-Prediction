{
  "cells": [
    {
      "cell_type": "markdown",
      "metadata": {
        "id": "5ObFhzjaBVJq"
      },
      "source": [
        "#libraries and functions"
      ]
    },
    {
      "cell_type": "code",
      "execution_count": 1,
      "metadata": {
        "id": "W4bT3-Wlj3gc"
      },
      "outputs": [],
      "source": [
        "import numpy as np\n",
        "import pandas as pd\n",
        "import seaborn as sns\n",
        "import matplotlib.pyplot as plt\n",
        "from datetime import datetime\n",
        "from sklearn.linear_model import LinearRegression\n",
        "from sklearn import linear_model\n",
        "from sklearn.decomposition import PCA \n",
        "from sklearn import metrics\n",
        "from sklearn.model_selection import train_test_split\n",
        "from sklearn.model_selection import cross_val_score\n",
        "from sklearn.preprocessing import PolynomialFeatures\n",
        "from sklearn.preprocessing import OneHotEncoder\n",
        "from sklearn.preprocessing import LabelEncoder\n",
        "from sklearn.pipeline import make_pipeline\n",
        "from sklearn.preprocessing import MinMaxScaler\n",
        "\n",
        "from sklearn.svm import SVC\n",
        "from sklearn.metrics import accuracy_score\n",
        "\n",
        "from sklearn.svm import LinearSVC\n",
        "from sklearn.multiclass import OneVsRestClassifier,OneVsOneClassifier\n",
        "import pickle"
      ]
    },
    {
      "cell_type": "code",
      "execution_count": 92,
      "metadata": {
        "id": "fSMz0CAzVh0Q"
      },
      "outputs": [],
      "source": [
        "#[helper functions]\n",
        "def FeatureScalling(X):\n",
        "  for column in X.columns:\n",
        "    X[column] = (X[column] - X[column].min()) /(X[column].max() - X[column].min())\n",
        "  return X\n",
        "\n",
        "def PolynomialRegressionModel(X_train,y_train,X_test,y_test,Degree):\n",
        "    model = make_pipeline(PolynomialFeatures(Degree), LinearRegression())\n",
        "    model.fit(X_train, y_train)\n",
        "    prediction = model.predict(X_test)\n",
        "    print('Mean Square Error:', metrics.mean_squared_error(y_test, prediction))\n",
        "    print('r2_score :', metrics.r2_score(y_test, prediction))\n",
        "    return model\n",
        "def LinearRegressionModel(X_train,y_train,X_test,y_test):\n",
        "    model =LinearRegression()\n",
        "    model.fit(X_train, y_train)\n",
        "    prediction = model.predict(X_test)\n",
        "    print('Mean Square Error:', metrics.mean_squared_error(y_test, prediction))\n",
        "    print('r2_score :', metrics.r2_score(y_test, prediction)) \n",
        "    return model\n",
        "def SVM_MODEL(x_train,y_train,kERNEL):\n",
        "  detection=SVC(kernel=KERNEL)\n",
        "  detection.fit(X_train,Y_train)\n",
        "  train_preds=detection.predict(X_train)\n",
        "  train_error=accuracy_score(Y_train,train_preds)\n",
        "  print(\"train accuracy: \",train_error)\n",
        "  test_preds=detection.predict(X_test)\n",
        "  test_error=accuracy_score(Y_test,test_preds)\n",
        "  print(\"test accuracy: \",test_error)\n",
        "def MULTI(X_train,y_train,X_test,y_test):\n",
        "  svm_kernel_ovo = OneVsOneClassifier(SVC(kernel='linear', C=1)).fit(X_train, y_train)\n",
        "  svm_kernel_ovr = OneVsRestClassifier(SVC(kernel='linear', C=1)).fit(X_train, y_train)\n",
        "  svm_linear_ovo = OneVsOneClassifier(LinearSVC(C=1),).fit(X_train, y_train)\n",
        "  svm_linear_ovr = OneVsRestClassifier(LinearSVC(C=1)).fit(X_train, y_train)\n",
        "  # model accuracy for svc model\n",
        "  accuracy = svm_kernel_ovr.score(X_test, y_test)\n",
        "  print('Linear Kernel OneVsRest SVM accuracy: ' + str(accuracy))\n",
        "  accuracy = svm_kernel_ovo.score(X_test, y_test)\n",
        "  print('Linear Kernel OneVsOne SVM accuracy: ' + str(accuracy))\n",
        "  # model accuracy for svc model\n",
        "  accuracy = svm_linear_ovr.score(X_test, y_test)\n",
        "  print('LinearSVC OneVsRest SVM accuracy: ' + str(accuracy))\n",
        "  accuracy = svm_linear_ovo.score(X_test, y_test)\n",
        "  print('LinearSVC OneVsOne SVM accuracy: ' + str(accuracy))\n",
        "\n",
        "\n",
        " "
      ]
    },
    {
      "cell_type": "markdown",
      "metadata": {
        "id": "XiD97RXRV17C"
      },
      "source": [
        "# **Load Data**\n"
      ]
    },
    {
      "cell_type": "code",
      "execution_count": 93,
      "metadata": {
        "colab": {
          "base_uri": "https://localhost:8080/",
          "height": 337
        },
        "id": "5wf2kyBXsXX0",
        "outputId": "d54fb2bf-e601-4a7e-f38e-f6f619ba332f"
      },
      "outputs": [
        {
          "data": {
            "text/html": [
              "<div>\n",
              "<style scoped>\n",
              "    .dataframe tbody tr th:only-of-type {\n",
              "        vertical-align: middle;\n",
              "    }\n",
              "\n",
              "    .dataframe tbody tr th {\n",
              "        vertical-align: top;\n",
              "    }\n",
              "\n",
              "    .dataframe thead th {\n",
              "        text-align: right;\n",
              "    }\n",
              "</style>\n",
              "<table border=\"1\" class=\"dataframe\">\n",
              "  <thead>\n",
              "    <tr style=\"text-align: right;\">\n",
              "      <th></th>\n",
              "      <th>distance</th>\n",
              "      <th>cab_type</th>\n",
              "      <th>time_stamp</th>\n",
              "      <th>destination</th>\n",
              "      <th>source</th>\n",
              "      <th>surge_multiplier</th>\n",
              "      <th>id</th>\n",
              "      <th>product_id</th>\n",
              "      <th>name</th>\n",
              "      <th>price</th>\n",
              "    </tr>\n",
              "  </thead>\n",
              "  <tbody>\n",
              "    <tr>\n",
              "      <th>0</th>\n",
              "      <td>0.62</td>\n",
              "      <td>Uber</td>\n",
              "      <td>1.544770e+12</td>\n",
              "      <td>West End</td>\n",
              "      <td>Haymarket Square</td>\n",
              "      <td>1.0</td>\n",
              "      <td>c1b4a572-24b2-484d-aac5-b4f97b790480</td>\n",
              "      <td>8cf7e821-f0d3-49c6-8eba-e679c0ebcf6a</td>\n",
              "      <td>Taxi</td>\n",
              "      <td>NaN</td>\n",
              "    </tr>\n",
              "    <tr>\n",
              "      <th>1</th>\n",
              "      <td>2.27</td>\n",
              "      <td>Uber</td>\n",
              "      <td>1.543400e+12</td>\n",
              "      <td>Boston University</td>\n",
              "      <td>Beacon Hill</td>\n",
              "      <td>1.0</td>\n",
              "      <td>f9e7e7e6-b309-479b-9f90-bf26a1870c81</td>\n",
              "      <td>997acbb5-e102-41e1-b155-9df7de0a73f2</td>\n",
              "      <td>UberPool</td>\n",
              "      <td>8.0</td>\n",
              "    </tr>\n",
              "    <tr>\n",
              "      <th>2</th>\n",
              "      <td>2.00</td>\n",
              "      <td>Lyft</td>\n",
              "      <td>1.544920e+12</td>\n",
              "      <td>Back Bay</td>\n",
              "      <td>Haymarket Square</td>\n",
              "      <td>1.0</td>\n",
              "      <td>154e8438-46f5-4e5f-9872-15cc95e85eed</td>\n",
              "      <td>lyft</td>\n",
              "      <td>Lyft</td>\n",
              "      <td>10.5</td>\n",
              "    </tr>\n",
              "    <tr>\n",
              "      <th>3</th>\n",
              "      <td>3.98</td>\n",
              "      <td>Lyft</td>\n",
              "      <td>1.543620e+12</td>\n",
              "      <td>Financial District</td>\n",
              "      <td>Northeastern University</td>\n",
              "      <td>1.0</td>\n",
              "      <td>6bdc30a6-9a80-487b-914e-8d9b82ee4acb</td>\n",
              "      <td>lyft_plus</td>\n",
              "      <td>Lyft XL</td>\n",
              "      <td>22.5</td>\n",
              "    </tr>\n",
              "    <tr>\n",
              "      <th>4</th>\n",
              "      <td>1.49</td>\n",
              "      <td>Lyft</td>\n",
              "      <td>1.543580e+12</td>\n",
              "      <td>Back Bay</td>\n",
              "      <td>Northeastern University</td>\n",
              "      <td>1.0</td>\n",
              "      <td>0cb12fe9-cd72-4feb-b341-4a566b2e6643</td>\n",
              "      <td>lyft</td>\n",
              "      <td>Lyft</td>\n",
              "      <td>7.0</td>\n",
              "    </tr>\n",
              "  </tbody>\n",
              "</table>\n",
              "</div>"
            ],
            "text/plain": [
              "   distance cab_type    time_stamp         destination  \\\n",
              "0      0.62     Uber  1.544770e+12            West End   \n",
              "1      2.27     Uber  1.543400e+12   Boston University   \n",
              "2      2.00     Lyft  1.544920e+12            Back Bay   \n",
              "3      3.98     Lyft  1.543620e+12  Financial District   \n",
              "4      1.49     Lyft  1.543580e+12            Back Bay   \n",
              "\n",
              "                    source  surge_multiplier  \\\n",
              "0         Haymarket Square               1.0   \n",
              "1              Beacon Hill               1.0   \n",
              "2         Haymarket Square               1.0   \n",
              "3  Northeastern University               1.0   \n",
              "4  Northeastern University               1.0   \n",
              "\n",
              "                                     id                            product_id  \\\n",
              "0  c1b4a572-24b2-484d-aac5-b4f97b790480  8cf7e821-f0d3-49c6-8eba-e679c0ebcf6a   \n",
              "1  f9e7e7e6-b309-479b-9f90-bf26a1870c81  997acbb5-e102-41e1-b155-9df7de0a73f2   \n",
              "2  154e8438-46f5-4e5f-9872-15cc95e85eed                                  lyft   \n",
              "3  6bdc30a6-9a80-487b-914e-8d9b82ee4acb                             lyft_plus   \n",
              "4  0cb12fe9-cd72-4feb-b341-4a566b2e6643                                  lyft   \n",
              "\n",
              "       name  price  \n",
              "0      Taxi    NaN  \n",
              "1  UberPool    8.0  \n",
              "2      Lyft   10.5  \n",
              "3   Lyft XL   22.5  \n",
              "4      Lyft    7.0  "
            ]
          },
          "execution_count": 93,
          "metadata": {},
          "output_type": "execute_result"
        }
      ],
      "source": [
        "taxi_data=pd.read_csv('taxi-rides.csv')\n",
        "#taxi_data=pd.read_csv('taxi-rides.csv')\n",
        "taxi_data.head()"
      ]
    },
    {
      "cell_type": "code",
      "execution_count": 94,
      "metadata": {
        "id": "O68e5Vu6CBiA"
      },
      "outputs": [],
      "source": [
        "#from google.colab import drive\n",
        "#drive.mount('/content/drive')"
      ]
    },
    {
      "cell_type": "markdown",
      "metadata": {
        "id": "BaX2cEyixTp_"
      },
      "source": [
        "#**Data Visualization**"
      ]
    },
    {
      "cell_type": "code",
      "execution_count": 95,
      "metadata": {
        "colab": {
          "base_uri": "https://localhost:8080/",
          "height": 297
        },
        "id": "FkhCoKACxapE",
        "outputId": "997e5f99-d966-457b-b5e7-5b31817aea40"
      },
      "outputs": [
        {
          "data": {
            "text/plain": [
              "<AxesSubplot:xlabel='cab_type', ylabel='count'>"
            ]
          },
          "execution_count": 95,
          "metadata": {},
          "output_type": "execute_result"
        },
        {
          "data": {
            "image/png": "[encoded data removed]",
            "text/plain": [
              "<Figure size 432x288 with 1 Axes>"
            ]
          },
          "metadata": {
            "needs_background": "light"
          },
          "output_type": "display_data"
        }
      ],
      "source": [
        "sns.countplot(x='cab_type', data=taxi_data)\n"
      ]
    },
    {
      "cell_type": "code",
      "execution_count": 96,
      "metadata": {
        "colab": {
          "base_uri": "https://localhost:8080/",
          "height": 368
        },
        "id": "XNWUfGFiyPh-",
        "outputId": "a988a571-da5d-426c-f0b8-435772b0c333"
      },
      "outputs": [
        {
          "data": {
            "text/plain": [
              "<AxesSubplot:xlabel='distance', ylabel='price'>"
            ]
          },
          "execution_count": 96,
          "metadata": {},
          "output_type": "execute_result"
        },
        {
          "name": "stderr",
          "output_type": "stream",
          "text": [
            "C:\\Users\\dell\\AppData\\Local\\Packages\\PythonSoftwareFoundation.Python.3.9_qbz5n2kfra8p0\\LocalCache\\local-packages\\Python39\\site-packages\\IPython\\core\\pylabtools.py:151: UserWarning: Creating legend with loc=\"best\" can be slow with large amounts of data.\n",
            "  fig.canvas.print_figure(bytes_io, **kw)\n"
          ]
        },
        {
          "data": {
            "image/png": "[encoded data removed]",
            "text/plain": [
              "<Figure size 432x288 with 1 Axes>"
            ]
          },
          "metadata": {
            "needs_background": "light"
          },
          "output_type": "display_data"
        }
      ],
      "source": [
        "sns.scatterplot(data=taxi_data, x=\"distance\", y=\"price\",hue='name')"
      ]
    },
    {
      "cell_type": "code",
      "execution_count": 97,
      "metadata": {
        "colab": {
          "base_uri": "https://localhost:8080/",
          "height": 296
        },
        "id": "eD8G7OBHz8Ld",
        "outputId": "0db309f0-a27d-4b83-af92-2adedaa00883"
      },
      "outputs": [
        {
          "data": {
            "text/plain": [
              "<AxesSubplot:xlabel='distance', ylabel='price'>"
            ]
          },
          "execution_count": 97,
          "metadata": {},
          "output_type": "execute_result"
        },
        {
          "data": {
            "image/png": "[encoded data removed]",
            "text/plain": [
              "<Figure size 432x288 with 1 Axes>"
            ]
          },
          "metadata": {
            "needs_background": "light"
          },
          "output_type": "display_data"
        }
      ],
      "source": [
        "sns.scatterplot(data=taxi_data, x=\"distance\", y=\"price\",hue='cab_type')"
      ]
    },
    {
      "cell_type": "code",
      "execution_count": null,
      "metadata": {
        "id": "iIkknXQ3zLsW"
      },
      "outputs": [],
      "source": []
    },
    {
      "cell_type": "markdown",
      "metadata": {
        "id": "VWgSSZZx_Y8w"
      },
      "source": [
        "# **Data cleaning**"
      ]
    },
    {
      "cell_type": "code",
      "execution_count": 98,
      "metadata": {
        "colab": {
          "base_uri": "https://localhost:8080/"
        },
        "id": "2EkWq830MGIe",
        "outputId": "283e5193-db0e-4817-fa79-e1f2d1f84331"
      },
      "outputs": [
        {
          "data": {
            "text/plain": [
              "distance            554456\n",
              "cab_type            554456\n",
              "time_stamp          554456\n",
              "destination         554456\n",
              "source              554456\n",
              "surge_multiplier    554456\n",
              "id                  554456\n",
              "product_id          554456\n",
              "name                554456\n",
              "price               510321\n",
              "dtype: int64"
            ]
          },
          "execution_count": 98,
          "metadata": {},
          "output_type": "execute_result"
        }
      ],
      "source": [
        "taxi_data.count()"
      ]
    },
    {
      "cell_type": "code",
      "execution_count": 99,
      "metadata": {
        "colab": {
          "base_uri": "https://localhost:8080/"
        },
        "id": "604bkuUkL3vW",
        "outputId": "cf51b148-e591-469b-e0c7-d6a955087dc8"
      },
      "outputs": [
        {
          "data": {
            "text/plain": [
              "distance                0\n",
              "cab_type                0\n",
              "time_stamp              0\n",
              "destination             0\n",
              "source                  0\n",
              "surge_multiplier        0\n",
              "id                      0\n",
              "product_id              0\n",
              "name                    0\n",
              "price               44135\n",
              "dtype: int64"
            ]
          },
          "execution_count": 99,
          "metadata": {},
          "output_type": "execute_result"
        }
      ],
      "source": [
        "taxi_data.isnull().sum()"
      ]
    },
    {
      "cell_type": "code",
      "execution_count": 100,
      "metadata": {
        "id": "hoeovttVBJl1"
      },
      "outputs": [],
      "source": [
        "taxi_data.dropna(subset=['price'],inplace=True)\n",
        "taxi_data.reset_index(drop=True, inplace=True)"
      ]
    },
    {
      "cell_type": "code",
      "execution_count": 101,
      "metadata": {
        "colab": {
          "base_uri": "https://localhost:8080/",
          "height": 693
        },
        "id": "pqdfm20_tYb1",
        "outputId": "c1266fc6-8dcb-4c00-bf25-b108004e9a39"
      },
      "outputs": [
        {
          "data": {
            "text/html": [
              "<div>\n",
              "<style scoped>\n",
              "    .dataframe tbody tr th:only-of-type {\n",
              "        vertical-align: middle;\n",
              "    }\n",
              "\n",
              "    .dataframe tbody tr th {\n",
              "        vertical-align: top;\n",
              "    }\n",
              "\n",
              "    .dataframe thead th {\n",
              "        text-align: right;\n",
              "    }\n",
              "</style>\n",
              "<table border=\"1\" class=\"dataframe\">\n",
              "  <thead>\n",
              "    <tr style=\"text-align: right;\">\n",
              "      <th></th>\n",
              "      <th>distance</th>\n",
              "      <th>cab_type</th>\n",
              "      <th>time_stamp</th>\n",
              "      <th>destination</th>\n",
              "      <th>source</th>\n",
              "      <th>surge_multiplier</th>\n",
              "      <th>id</th>\n",
              "      <th>product_id</th>\n",
              "      <th>name</th>\n",
              "      <th>price</th>\n",
              "    </tr>\n",
              "  </thead>\n",
              "  <tbody>\n",
              "    <tr>\n",
              "      <th>0</th>\n",
              "      <td>2.27</td>\n",
              "      <td>Uber</td>\n",
              "      <td>1.543400e+12</td>\n",
              "      <td>Boston University</td>\n",
              "      <td>Beacon Hill</td>\n",
              "      <td>1.0</td>\n",
              "      <td>f9e7e7e6-b309-479b-9f90-bf26a1870c81</td>\n",
              "      <td>997acbb5-e102-41e1-b155-9df7de0a73f2</td>\n",
              "      <td>UberPool</td>\n",
              "      <td>8.0</td>\n",
              "    </tr>\n",
              "    <tr>\n",
              "      <th>1</th>\n",
              "      <td>2.00</td>\n",
              "      <td>Lyft</td>\n",
              "      <td>1.544920e+12</td>\n",
              "      <td>Back Bay</td>\n",
              "      <td>Haymarket Square</td>\n",
              "      <td>1.0</td>\n",
              "      <td>154e8438-46f5-4e5f-9872-15cc95e85eed</td>\n",
              "      <td>lyft</td>\n",
              "      <td>Lyft</td>\n",
              "      <td>10.5</td>\n",
              "    </tr>\n",
              "    <tr>\n",
              "      <th>2</th>\n",
              "      <td>3.98</td>\n",
              "      <td>Lyft</td>\n",
              "      <td>1.543620e+12</td>\n",
              "      <td>Financial District</td>\n",
              "      <td>Northeastern University</td>\n",
              "      <td>1.0</td>\n",
              "      <td>6bdc30a6-9a80-487b-914e-8d9b82ee4acb</td>\n",
              "      <td>lyft_plus</td>\n",
              "      <td>Lyft XL</td>\n",
              "      <td>22.5</td>\n",
              "    </tr>\n",
              "    <tr>\n",
              "      <th>3</th>\n",
              "      <td>1.49</td>\n",
              "      <td>Lyft</td>\n",
              "      <td>1.543580e+12</td>\n",
              "      <td>Back Bay</td>\n",
              "      <td>Northeastern University</td>\n",
              "      <td>1.0</td>\n",
              "      <td>0cb12fe9-cd72-4feb-b341-4a566b2e6643</td>\n",
              "      <td>lyft</td>\n",
              "      <td>Lyft</td>\n",
              "      <td>7.0</td>\n",
              "    </tr>\n",
              "    <tr>\n",
              "      <th>4</th>\n",
              "      <td>1.97</td>\n",
              "      <td>Uber</td>\n",
              "      <td>1.543460e+12</td>\n",
              "      <td>Northeastern University</td>\n",
              "      <td>Beacon Hill</td>\n",
              "      <td>1.0</td>\n",
              "      <td>8ca92e07-e4b9-4191-a212-9098c5fed50a</td>\n",
              "      <td>6d318bcc-22a3-4af6-bddd-b409bfce1546</td>\n",
              "      <td>Black SUV</td>\n",
              "      <td>29.5</td>\n",
              "    </tr>\n",
              "    <tr>\n",
              "      <th>...</th>\n",
              "      <td>...</td>\n",
              "      <td>...</td>\n",
              "      <td>...</td>\n",
              "      <td>...</td>\n",
              "      <td>...</td>\n",
              "      <td>...</td>\n",
              "      <td>...</td>\n",
              "      <td>...</td>\n",
              "      <td>...</td>\n",
              "      <td>...</td>\n",
              "    </tr>\n",
              "    <tr>\n",
              "      <th>510311</th>\n",
              "      <td>1.80</td>\n",
              "      <td>Uber</td>\n",
              "      <td>1.543690e+12</td>\n",
              "      <td>Northeastern University</td>\n",
              "      <td>Theatre District</td>\n",
              "      <td>1.0</td>\n",
              "      <td>b5a3f541-2de8-4708-88e0-09bb9b5c19a6</td>\n",
              "      <td>9a0e7b09-b92b-4c41-9779-2ad22b4d779d</td>\n",
              "      <td>WAV</td>\n",
              "      <td>10.5</td>\n",
              "    </tr>\n",
              "    <tr>\n",
              "      <th>510312</th>\n",
              "      <td>2.43</td>\n",
              "      <td>Lyft</td>\n",
              "      <td>1.544860e+12</td>\n",
              "      <td>South Station</td>\n",
              "      <td>Beacon Hill</td>\n",
              "      <td>1.0</td>\n",
              "      <td>16c556d2-2d40-4a8b-8b04-b1f9899cb1a3</td>\n",
              "      <td>lyft_premier</td>\n",
              "      <td>Lux</td>\n",
              "      <td>16.5</td>\n",
              "    </tr>\n",
              "    <tr>\n",
              "      <th>510313</th>\n",
              "      <td>1.03</td>\n",
              "      <td>Uber</td>\n",
              "      <td>1.544950e+12</td>\n",
              "      <td>North Station</td>\n",
              "      <td>North End</td>\n",
              "      <td>1.0</td>\n",
              "      <td>fd9167b4-e730-442c-a2b8-91663452025a</td>\n",
              "      <td>6c84fd89-3f11-4782-9b50-97c468b19529</td>\n",
              "      <td>Black</td>\n",
              "      <td>15.0</td>\n",
              "    </tr>\n",
              "    <tr>\n",
              "      <th>510314</th>\n",
              "      <td>0.76</td>\n",
              "      <td>Lyft</td>\n",
              "      <td>1.544840e+12</td>\n",
              "      <td>Haymarket Square</td>\n",
              "      <td>North Station</td>\n",
              "      <td>1.0</td>\n",
              "      <td>400cfbe1-de0d-4590-b853-bb24ee23065d</td>\n",
              "      <td>lyft_line</td>\n",
              "      <td>Shared</td>\n",
              "      <td>5.0</td>\n",
              "    </tr>\n",
              "    <tr>\n",
              "      <th>510315</th>\n",
              "      <td>1.48</td>\n",
              "      <td>Lyft</td>\n",
              "      <td>1.543450e+12</td>\n",
              "      <td>Back Bay</td>\n",
              "      <td>Fenway</td>\n",
              "      <td>1.0</td>\n",
              "      <td>e63a5440-2d70-4fb9-9ee8-5b3ab93606c6</td>\n",
              "      <td>lyft_luxsuv</td>\n",
              "      <td>Lux Black XL</td>\n",
              "      <td>27.5</td>\n",
              "    </tr>\n",
              "  </tbody>\n",
              "</table>\n",
              "<p>510316 rows × 10 columns</p>\n",
              "</div>"
            ],
            "text/plain": [
              "        distance cab_type    time_stamp              destination  \\\n",
              "0           2.27     Uber  1.543400e+12        Boston University   \n",
              "1           2.00     Lyft  1.544920e+12                 Back Bay   \n",
              "2           3.98     Lyft  1.543620e+12       Financial District   \n",
              "3           1.49     Lyft  1.543580e+12                 Back Bay   \n",
              "4           1.97     Uber  1.543460e+12  Northeastern University   \n",
              "...          ...      ...           ...                      ...   \n",
              "510311      1.80     Uber  1.543690e+12  Northeastern University   \n",
              "510312      2.43     Lyft  1.544860e+12            South Station   \n",
              "510313      1.03     Uber  1.544950e+12            North Station   \n",
              "510314      0.76     Lyft  1.544840e+12         Haymarket Square   \n",
              "510315      1.48     Lyft  1.543450e+12                 Back Bay   \n",
              "\n",
              "                         source  surge_multiplier  \\\n",
              "0                   Beacon Hill               1.0   \n",
              "1              Haymarket Square               1.0   \n",
              "2       Northeastern University               1.0   \n",
              "3       Northeastern University               1.0   \n",
              "4                   Beacon Hill               1.0   \n",
              "...                         ...               ...   \n",
              "510311         Theatre District               1.0   \n",
              "510312              Beacon Hill               1.0   \n",
              "510313                North End               1.0   \n",
              "510314            North Station               1.0   \n",
              "510315                   Fenway               1.0   \n",
              "\n",
              "                                          id  \\\n",
              "0       f9e7e7e6-b309-479b-9f90-bf26a1870c81   \n",
              "1       154e8438-46f5-4e5f-9872-15cc95e85eed   \n",
              "2       6bdc30a6-9a80-487b-914e-8d9b82ee4acb   \n",
              "3       0cb12fe9-cd72-4feb-b341-4a566b2e6643   \n",
              "4       8ca92e07-e4b9-4191-a212-9098c5fed50a   \n",
              "...                                      ...   \n",
              "510311  b5a3f541-2de8-4708-88e0-09bb9b5c19a6   \n",
              "510312  16c556d2-2d40-4a8b-8b04-b1f9899cb1a3   \n",
              "510313  fd9167b4-e730-442c-a2b8-91663452025a   \n",
              "510314  400cfbe1-de0d-4590-b853-bb24ee23065d   \n",
              "510315  e63a5440-2d70-4fb9-9ee8-5b3ab93606c6   \n",
              "\n",
              "                                  product_id          name  price  \n",
              "0       997acbb5-e102-41e1-b155-9df7de0a73f2      UberPool    8.0  \n",
              "1                                       lyft          Lyft   10.5  \n",
              "2                                  lyft_plus       Lyft XL   22.5  \n",
              "3                                       lyft          Lyft    7.0  \n",
              "4       6d318bcc-22a3-4af6-bddd-b409bfce1546     Black SUV   29.5  \n",
              "...                                      ...           ...    ...  \n",
              "510311  9a0e7b09-b92b-4c41-9779-2ad22b4d779d           WAV   10.5  \n",
              "510312                          lyft_premier           Lux   16.5  \n",
              "510313  6c84fd89-3f11-4782-9b50-97c468b19529         Black   15.0  \n",
              "510314                             lyft_line        Shared    5.0  \n",
              "510315                           lyft_luxsuv  Lux Black XL   27.5  \n",
              "\n",
              "[510316 rows x 10 columns]"
            ]
          },
          "execution_count": 101,
          "metadata": {},
          "output_type": "execute_result"
        }
      ],
      "source": [
        "taxi_data.head(-5)"
      ]
    },
    {
      "cell_type": "code",
      "execution_count": 102,
      "metadata": {
        "colab": {
          "base_uri": "https://localhost:8080/"
        },
        "id": "zBnOIWgZuHKI",
        "outputId": "201d829c-e26a-4177-b47e-803356441e11"
      },
      "outputs": [
        {
          "data": {
            "text/plain": [
              "distance            510321\n",
              "cab_type            510321\n",
              "time_stamp          510321\n",
              "destination         510321\n",
              "source              510321\n",
              "surge_multiplier    510321\n",
              "id                  510321\n",
              "product_id          510321\n",
              "name                510321\n",
              "price               510321\n",
              "dtype: int64"
            ]
          },
          "execution_count": 102,
          "metadata": {},
          "output_type": "execute_result"
        }
      ],
      "source": [
        "taxi_data.count()"
      ]
    },
    {
      "cell_type": "code",
      "execution_count": 103,
      "metadata": {
        "colab": {
          "base_uri": "https://localhost:8080/"
        },
        "id": "1ruMwi4auC-E",
        "outputId": "9150c1d4-bbad-4b28-ecdb-8e59a90ae18d"
      },
      "outputs": [
        {
          "data": {
            "text/plain": [
              "distance            0\n",
              "cab_type            0\n",
              "time_stamp          0\n",
              "destination         0\n",
              "source              0\n",
              "surge_multiplier    0\n",
              "id                  0\n",
              "product_id          0\n",
              "name                0\n",
              "price               0\n",
              "dtype: int64"
            ]
          },
          "execution_count": 103,
          "metadata": {},
          "output_type": "execute_result"
        }
      ],
      "source": [
        "taxi_data.isnull().sum()"
      ]
    },
    {
      "cell_type": "code",
      "execution_count": null,
      "metadata": {
        "id": "DVuuFcRUuJu8"
      },
      "outputs": [],
      "source": []
    },
    {
      "cell_type": "code",
      "execution_count": 104,
      "metadata": {
        "colab": {
          "base_uri": "https://localhost:8080/"
        },
        "id": "7aRo-KmqRfbT",
        "outputId": "ff860234-6445-4524-c533-89d48d2b0424"
      },
      "outputs": [
        {
          "data": {
            "text/plain": [
              "0"
            ]
          },
          "execution_count": 104,
          "metadata": {},
          "output_type": "execute_result"
        }
      ],
      "source": [
        "taxi_data.duplicated().sum()"
      ]
    },
    {
      "cell_type": "code",
      "execution_count": 105,
      "metadata": {
        "id": "gYwDkozJRtpc"
      },
      "outputs": [],
      "source": [
        "taxi_data =taxi_data.drop_duplicates()"
      ]
    },
    {
      "cell_type": "code",
      "execution_count": 106,
      "metadata": {
        "colab": {
          "base_uri": "https://localhost:8080/",
          "height": 206
        },
        "id": "vWeqrshlydXd",
        "outputId": "f364e7c0-fb49-4971-baa7-005dca8aa1ea"
      },
      "outputs": [
        {
          "data": {
            "text/html": [
              "<div>\n",
              "<style scoped>\n",
              "    .dataframe tbody tr th:only-of-type {\n",
              "        vertical-align: middle;\n",
              "    }\n",
              "\n",
              "    .dataframe tbody tr th {\n",
              "        vertical-align: top;\n",
              "    }\n",
              "\n",
              "    .dataframe thead th {\n",
              "        text-align: right;\n",
              "    }\n",
              "</style>\n",
              "<table border=\"1\" class=\"dataframe\">\n",
              "  <thead>\n",
              "    <tr style=\"text-align: right;\">\n",
              "      <th></th>\n",
              "      <th>temp</th>\n",
              "      <th>location</th>\n",
              "      <th>clouds</th>\n",
              "      <th>pressure</th>\n",
              "      <th>rain</th>\n",
              "      <th>time_stamp</th>\n",
              "      <th>humidity</th>\n",
              "      <th>wind</th>\n",
              "    </tr>\n",
              "  </thead>\n",
              "  <tbody>\n",
              "    <tr>\n",
              "      <th>0</th>\n",
              "      <td>42.42</td>\n",
              "      <td>Back Bay</td>\n",
              "      <td>1.0</td>\n",
              "      <td>1012.14</td>\n",
              "      <td>0.1228</td>\n",
              "      <td>1545003901</td>\n",
              "      <td>0.77</td>\n",
              "      <td>11.25</td>\n",
              "    </tr>\n",
              "    <tr>\n",
              "      <th>1</th>\n",
              "      <td>42.43</td>\n",
              "      <td>Beacon Hill</td>\n",
              "      <td>1.0</td>\n",
              "      <td>1012.15</td>\n",
              "      <td>0.1846</td>\n",
              "      <td>1545003901</td>\n",
              "      <td>0.76</td>\n",
              "      <td>11.32</td>\n",
              "    </tr>\n",
              "    <tr>\n",
              "      <th>2</th>\n",
              "      <td>42.50</td>\n",
              "      <td>Boston University</td>\n",
              "      <td>1.0</td>\n",
              "      <td>1012.15</td>\n",
              "      <td>0.1089</td>\n",
              "      <td>1545003901</td>\n",
              "      <td>0.76</td>\n",
              "      <td>11.07</td>\n",
              "    </tr>\n",
              "    <tr>\n",
              "      <th>3</th>\n",
              "      <td>42.11</td>\n",
              "      <td>Fenway</td>\n",
              "      <td>1.0</td>\n",
              "      <td>1012.13</td>\n",
              "      <td>0.0969</td>\n",
              "      <td>1545003901</td>\n",
              "      <td>0.77</td>\n",
              "      <td>11.09</td>\n",
              "    </tr>\n",
              "    <tr>\n",
              "      <th>4</th>\n",
              "      <td>43.13</td>\n",
              "      <td>Financial District</td>\n",
              "      <td>1.0</td>\n",
              "      <td>1012.14</td>\n",
              "      <td>0.1786</td>\n",
              "      <td>1545003901</td>\n",
              "      <td>0.75</td>\n",
              "      <td>11.49</td>\n",
              "    </tr>\n",
              "  </tbody>\n",
              "</table>\n",
              "</div>"
            ],
            "text/plain": [
              "    temp            location  clouds  pressure    rain  time_stamp  humidity  \\\n",
              "0  42.42            Back Bay     1.0   1012.14  0.1228  1545003901      0.77   \n",
              "1  42.43         Beacon Hill     1.0   1012.15  0.1846  1545003901      0.76   \n",
              "2  42.50   Boston University     1.0   1012.15  0.1089  1545003901      0.76   \n",
              "3  42.11              Fenway     1.0   1012.13  0.0969  1545003901      0.77   \n",
              "4  43.13  Financial District     1.0   1012.14  0.1786  1545003901      0.75   \n",
              "\n",
              "    wind  \n",
              "0  11.25  \n",
              "1  11.32  \n",
              "2  11.07  \n",
              "3  11.09  \n",
              "4  11.49  "
            ]
          },
          "execution_count": 106,
          "metadata": {},
          "output_type": "execute_result"
        }
      ],
      "source": [
        "weather_data=pd.read_csv('weather.csv')\n",
        "#weather_data=pd.read_csv('weather.csv')\n",
        "weather_data.head()"
      ]
    },
    {
      "cell_type": "code",
      "execution_count": 107,
      "metadata": {
        "colab": {
          "base_uri": "https://localhost:8080/"
        },
        "id": "Lkz5BXS2Mi0W",
        "outputId": "10cc0187-ec5d-493a-b272-ce8813d471f5"
      },
      "outputs": [
        {
          "data": {
            "text/plain": [
              "temp          6276\n",
              "location      6276\n",
              "clouds        6276\n",
              "pressure      6276\n",
              "rain           894\n",
              "time_stamp    6276\n",
              "humidity      6276\n",
              "wind          6276\n",
              "dtype: int64"
            ]
          },
          "execution_count": 107,
          "metadata": {},
          "output_type": "execute_result"
        }
      ],
      "source": [
        "weather_data.count()"
      ]
    },
    {
      "cell_type": "code",
      "execution_count": 108,
      "metadata": {
        "colab": {
          "base_uri": "https://localhost:8080/"
        },
        "id": "a05XUYlhMaXh",
        "outputId": "0d197b19-6e59-4a04-a5ae-52c3a90d13eb"
      },
      "outputs": [
        {
          "data": {
            "text/plain": [
              "temp             0\n",
              "location         0\n",
              "clouds           0\n",
              "pressure         0\n",
              "rain          5382\n",
              "time_stamp       0\n",
              "humidity         0\n",
              "wind             0\n",
              "dtype: int64"
            ]
          },
          "execution_count": 108,
          "metadata": {},
          "output_type": "execute_result"
        }
      ],
      "source": [
        "weather_data.isnull().sum()"
      ]
    },
    {
      "cell_type": "code",
      "execution_count": 109,
      "metadata": {
        "colab": {
          "base_uri": "https://localhost:8080/",
          "height": 206
        },
        "id": "xtpu5u4JJnU7",
        "outputId": "4da880fd-3e7d-4508-cfbc-15746886fd33"
      },
      "outputs": [
        {
          "data": {
            "text/html": [
              "<div>\n",
              "<style scoped>\n",
              "    .dataframe tbody tr th:only-of-type {\n",
              "        vertical-align: middle;\n",
              "    }\n",
              "\n",
              "    .dataframe tbody tr th {\n",
              "        vertical-align: top;\n",
              "    }\n",
              "\n",
              "    .dataframe thead th {\n",
              "        text-align: right;\n",
              "    }\n",
              "</style>\n",
              "<table border=\"1\" class=\"dataframe\">\n",
              "  <thead>\n",
              "    <tr style=\"text-align: right;\">\n",
              "      <th></th>\n",
              "      <th>temp</th>\n",
              "      <th>location</th>\n",
              "      <th>clouds</th>\n",
              "      <th>pressure</th>\n",
              "      <th>time_stamp</th>\n",
              "      <th>humidity</th>\n",
              "      <th>wind</th>\n",
              "    </tr>\n",
              "  </thead>\n",
              "  <tbody>\n",
              "    <tr>\n",
              "      <th>0</th>\n",
              "      <td>42.42</td>\n",
              "      <td>Back Bay</td>\n",
              "      <td>1.0</td>\n",
              "      <td>1012.14</td>\n",
              "      <td>1545003901</td>\n",
              "      <td>0.77</td>\n",
              "      <td>11.25</td>\n",
              "    </tr>\n",
              "    <tr>\n",
              "      <th>1</th>\n",
              "      <td>42.43</td>\n",
              "      <td>Beacon Hill</td>\n",
              "      <td>1.0</td>\n",
              "      <td>1012.15</td>\n",
              "      <td>1545003901</td>\n",
              "      <td>0.76</td>\n",
              "      <td>11.32</td>\n",
              "    </tr>\n",
              "    <tr>\n",
              "      <th>2</th>\n",
              "      <td>42.50</td>\n",
              "      <td>Boston University</td>\n",
              "      <td>1.0</td>\n",
              "      <td>1012.15</td>\n",
              "      <td>1545003901</td>\n",
              "      <td>0.76</td>\n",
              "      <td>11.07</td>\n",
              "    </tr>\n",
              "    <tr>\n",
              "      <th>3</th>\n",
              "      <td>42.11</td>\n",
              "      <td>Fenway</td>\n",
              "      <td>1.0</td>\n",
              "      <td>1012.13</td>\n",
              "      <td>1545003901</td>\n",
              "      <td>0.77</td>\n",
              "      <td>11.09</td>\n",
              "    </tr>\n",
              "    <tr>\n",
              "      <th>4</th>\n",
              "      <td>43.13</td>\n",
              "      <td>Financial District</td>\n",
              "      <td>1.0</td>\n",
              "      <td>1012.14</td>\n",
              "      <td>1545003901</td>\n",
              "      <td>0.75</td>\n",
              "      <td>11.49</td>\n",
              "    </tr>\n",
              "  </tbody>\n",
              "</table>\n",
              "</div>"
            ],
            "text/plain": [
              "    temp            location  clouds  pressure  time_stamp  humidity   wind\n",
              "0  42.42            Back Bay     1.0   1012.14  1545003901      0.77  11.25\n",
              "1  42.43         Beacon Hill     1.0   1012.15  1545003901      0.76  11.32\n",
              "2  42.50   Boston University     1.0   1012.15  1545003901      0.76  11.07\n",
              "3  42.11              Fenway     1.0   1012.13  1545003901      0.77  11.09\n",
              "4  43.13  Financial District     1.0   1012.14  1545003901      0.75  11.49"
            ]
          },
          "execution_count": 109,
          "metadata": {},
          "output_type": "execute_result"
        }
      ],
      "source": [
        "#weather_data.fillna(0,inplace=True)\n",
        "weather_data.drop(['rain'],axis=1,inplace=True)\n",
        "weather_data.head()"
      ]
    },
    {
      "cell_type": "code",
      "execution_count": 110,
      "metadata": {
        "colab": {
          "base_uri": "https://localhost:8080/"
        },
        "id": "VP7EQms6wHvo",
        "outputId": "515021ed-96a3-4128-c6fa-352ccc989ce5"
      },
      "outputs": [
        {
          "data": {
            "text/plain": [
              "temp          0\n",
              "location      0\n",
              "clouds        0\n",
              "pressure      0\n",
              "time_stamp    0\n",
              "humidity      0\n",
              "wind          0\n",
              "dtype: int64"
            ]
          },
          "execution_count": 110,
          "metadata": {},
          "output_type": "execute_result"
        }
      ],
      "source": [
        "weather_data.isnull().sum()"
      ]
    },
    {
      "cell_type": "code",
      "execution_count": 111,
      "metadata": {
        "colab": {
          "base_uri": "https://localhost:8080/"
        },
        "id": "vIylyUXxOzFV",
        "outputId": "1ff98930-b21f-42b7-d1b2-7e4b4100c579"
      },
      "outputs": [
        {
          "data": {
            "text/plain": [
              "0"
            ]
          },
          "execution_count": 111,
          "metadata": {},
          "output_type": "execute_result"
        }
      ],
      "source": [
        "weather_data.duplicated().sum()"
      ]
    },
    {
      "cell_type": "markdown",
      "metadata": {
        "id": "aSbc8PCpNyK-"
      },
      "source": [
        "#**Feature Engineering**"
      ]
    },
    {
      "cell_type": "code",
      "execution_count": 112,
      "metadata": {
        "colab": {
          "base_uri": "https://localhost:8080/",
          "height": 206
        },
        "id": "ivERkwsmmvRi",
        "outputId": "bfb10aab-e765-4dc5-8232-9f44331eeb1d"
      },
      "outputs": [
        {
          "data": {
            "text/html": [
              "<div>\n",
              "<style scoped>\n",
              "    .dataframe tbody tr th:only-of-type {\n",
              "        vertical-align: middle;\n",
              "    }\n",
              "\n",
              "    .dataframe tbody tr th {\n",
              "        vertical-align: top;\n",
              "    }\n",
              "\n",
              "    .dataframe thead th {\n",
              "        text-align: right;\n",
              "    }\n",
              "</style>\n",
              "<table border=\"1\" class=\"dataframe\">\n",
              "  <thead>\n",
              "    <tr style=\"text-align: right;\">\n",
              "      <th></th>\n",
              "      <th>temp</th>\n",
              "      <th>location</th>\n",
              "      <th>clouds</th>\n",
              "      <th>pressure</th>\n",
              "      <th>time_stamp</th>\n",
              "      <th>humidity</th>\n",
              "      <th>wind</th>\n",
              "      <th>key</th>\n",
              "    </tr>\n",
              "  </thead>\n",
              "  <tbody>\n",
              "    <tr>\n",
              "      <th>0</th>\n",
              "      <td>42.42</td>\n",
              "      <td>Back Bay</td>\n",
              "      <td>1.0</td>\n",
              "      <td>1012.14</td>\n",
              "      <td>1545003901</td>\n",
              "      <td>0.77</td>\n",
              "      <td>11.25</td>\n",
              "      <td>2018/12/16</td>\n",
              "    </tr>\n",
              "    <tr>\n",
              "      <th>1</th>\n",
              "      <td>42.43</td>\n",
              "      <td>Beacon Hill</td>\n",
              "      <td>1.0</td>\n",
              "      <td>1012.15</td>\n",
              "      <td>1545003901</td>\n",
              "      <td>0.76</td>\n",
              "      <td>11.32</td>\n",
              "      <td>2018/12/16</td>\n",
              "    </tr>\n",
              "    <tr>\n",
              "      <th>2</th>\n",
              "      <td>42.50</td>\n",
              "      <td>Boston University</td>\n",
              "      <td>1.0</td>\n",
              "      <td>1012.15</td>\n",
              "      <td>1545003901</td>\n",
              "      <td>0.76</td>\n",
              "      <td>11.07</td>\n",
              "      <td>2018/12/16</td>\n",
              "    </tr>\n",
              "    <tr>\n",
              "      <th>3</th>\n",
              "      <td>42.11</td>\n",
              "      <td>Fenway</td>\n",
              "      <td>1.0</td>\n",
              "      <td>1012.13</td>\n",
              "      <td>1545003901</td>\n",
              "      <td>0.77</td>\n",
              "      <td>11.09</td>\n",
              "      <td>2018/12/16</td>\n",
              "    </tr>\n",
              "    <tr>\n",
              "      <th>4</th>\n",
              "      <td>43.13</td>\n",
              "      <td>Financial District</td>\n",
              "      <td>1.0</td>\n",
              "      <td>1012.14</td>\n",
              "      <td>1545003901</td>\n",
              "      <td>0.75</td>\n",
              "      <td>11.49</td>\n",
              "      <td>2018/12/16</td>\n",
              "    </tr>\n",
              "  </tbody>\n",
              "</table>\n",
              "</div>"
            ],
            "text/plain": [
              "    temp            location  clouds  pressure  time_stamp  humidity   wind  \\\n",
              "0  42.42            Back Bay     1.0   1012.14  1545003901      0.77  11.25   \n",
              "1  42.43         Beacon Hill     1.0   1012.15  1545003901      0.76  11.32   \n",
              "2  42.50   Boston University     1.0   1012.15  1545003901      0.76  11.07   \n",
              "3  42.11              Fenway     1.0   1012.13  1545003901      0.77  11.09   \n",
              "4  43.13  Financial District     1.0   1012.14  1545003901      0.75  11.49   \n",
              "\n",
              "          key  \n",
              "0  2018/12/16  \n",
              "1  2018/12/16  \n",
              "2  2018/12/16  \n",
              "3  2018/12/16  \n",
              "4  2018/12/16  "
            ]
          },
          "execution_count": 112,
          "metadata": {},
          "output_type": "execute_result"
        }
      ],
      "source": [
        "#convert time stamp to date in taxi and weather and add it to key column\n",
        "taxi_data['key'] = pd.to_datetime(taxi_data['time_stamp'], unit='ms').apply(lambda x: x.strftime(('%Y/%m/%d')))\n",
        "weather_data['key']=pd.to_datetime(weather_data['time_stamp'], unit='s').apply(lambda x: x.strftime(('%Y/%m/%d')))\n",
        "weather_data.head()"
      ]
    },
    {
      "cell_type": "code",
      "execution_count": 113,
      "metadata": {
        "colab": {
          "base_uri": "https://localhost:8080/",
          "height": 510
        },
        "id": "mzOQRx_eKphi",
        "outputId": "92128c91-73f8-45ba-de60-090f061f2079"
      },
      "outputs": [
        {
          "data": {
            "text/html": [
              "<div>\n",
              "<style scoped>\n",
              "    .dataframe tbody tr th:only-of-type {\n",
              "        vertical-align: middle;\n",
              "    }\n",
              "\n",
              "    .dataframe tbody tr th {\n",
              "        vertical-align: top;\n",
              "    }\n",
              "\n",
              "    .dataframe thead th {\n",
              "        text-align: right;\n",
              "    }\n",
              "</style>\n",
              "<table border=\"1\" class=\"dataframe\">\n",
              "  <thead>\n",
              "    <tr style=\"text-align: right;\">\n",
              "      <th></th>\n",
              "      <th>distance</th>\n",
              "      <th>cab_type</th>\n",
              "      <th>time_stamp</th>\n",
              "      <th>destination</th>\n",
              "      <th>source</th>\n",
              "      <th>surge_multiplier</th>\n",
              "      <th>id</th>\n",
              "      <th>product_id</th>\n",
              "      <th>name</th>\n",
              "      <th>price</th>\n",
              "      <th>key</th>\n",
              "      <th>trip_hour</th>\n",
              "    </tr>\n",
              "  </thead>\n",
              "  <tbody>\n",
              "    <tr>\n",
              "      <th>0</th>\n",
              "      <td>2.27</td>\n",
              "      <td>Uber</td>\n",
              "      <td>1.543400e+12</td>\n",
              "      <td>Boston University</td>\n",
              "      <td>Beacon Hill</td>\n",
              "      <td>1.0</td>\n",
              "      <td>f9e7e7e6-b309-479b-9f90-bf26a1870c81</td>\n",
              "      <td>997acbb5-e102-41e1-b155-9df7de0a73f2</td>\n",
              "      <td>UberPool</td>\n",
              "      <td>8.0</td>\n",
              "      <td>2018/11/28</td>\n",
              "      <td>10</td>\n",
              "    </tr>\n",
              "    <tr>\n",
              "      <th>1</th>\n",
              "      <td>2.00</td>\n",
              "      <td>Lyft</td>\n",
              "      <td>1.544920e+12</td>\n",
              "      <td>Back Bay</td>\n",
              "      <td>Haymarket Square</td>\n",
              "      <td>1.0</td>\n",
              "      <td>154e8438-46f5-4e5f-9872-15cc95e85eed</td>\n",
              "      <td>lyft</td>\n",
              "      <td>Lyft</td>\n",
              "      <td>10.5</td>\n",
              "      <td>2018/12/16</td>\n",
              "      <td>0</td>\n",
              "    </tr>\n",
              "    <tr>\n",
              "      <th>2</th>\n",
              "      <td>3.98</td>\n",
              "      <td>Lyft</td>\n",
              "      <td>1.543620e+12</td>\n",
              "      <td>Financial District</td>\n",
              "      <td>Northeastern University</td>\n",
              "      <td>1.0</td>\n",
              "      <td>6bdc30a6-9a80-487b-914e-8d9b82ee4acb</td>\n",
              "      <td>lyft_plus</td>\n",
              "      <td>Lyft XL</td>\n",
              "      <td>22.5</td>\n",
              "      <td>2018/11/30</td>\n",
              "      <td>23</td>\n",
              "    </tr>\n",
              "    <tr>\n",
              "      <th>3</th>\n",
              "      <td>1.49</td>\n",
              "      <td>Lyft</td>\n",
              "      <td>1.543580e+12</td>\n",
              "      <td>Back Bay</td>\n",
              "      <td>Northeastern University</td>\n",
              "      <td>1.0</td>\n",
              "      <td>0cb12fe9-cd72-4feb-b341-4a566b2e6643</td>\n",
              "      <td>lyft</td>\n",
              "      <td>Lyft</td>\n",
              "      <td>7.0</td>\n",
              "      <td>2018/11/30</td>\n",
              "      <td>12</td>\n",
              "    </tr>\n",
              "    <tr>\n",
              "      <th>4</th>\n",
              "      <td>1.97</td>\n",
              "      <td>Uber</td>\n",
              "      <td>1.543460e+12</td>\n",
              "      <td>Northeastern University</td>\n",
              "      <td>Beacon Hill</td>\n",
              "      <td>1.0</td>\n",
              "      <td>8ca92e07-e4b9-4191-a212-9098c5fed50a</td>\n",
              "      <td>6d318bcc-22a3-4af6-bddd-b409bfce1546</td>\n",
              "      <td>Black SUV</td>\n",
              "      <td>29.5</td>\n",
              "      <td>2018/11/29</td>\n",
              "      <td>2</td>\n",
              "    </tr>\n",
              "  </tbody>\n",
              "</table>\n",
              "</div>"
            ],
            "text/plain": [
              "   distance cab_type    time_stamp              destination  \\\n",
              "0      2.27     Uber  1.543400e+12        Boston University   \n",
              "1      2.00     Lyft  1.544920e+12                 Back Bay   \n",
              "2      3.98     Lyft  1.543620e+12       Financial District   \n",
              "3      1.49     Lyft  1.543580e+12                 Back Bay   \n",
              "4      1.97     Uber  1.543460e+12  Northeastern University   \n",
              "\n",
              "                    source  surge_multiplier  \\\n",
              "0              Beacon Hill               1.0   \n",
              "1         Haymarket Square               1.0   \n",
              "2  Northeastern University               1.0   \n",
              "3  Northeastern University               1.0   \n",
              "4              Beacon Hill               1.0   \n",
              "\n",
              "                                     id                            product_id  \\\n",
              "0  f9e7e7e6-b309-479b-9f90-bf26a1870c81  997acbb5-e102-41e1-b155-9df7de0a73f2   \n",
              "1  154e8438-46f5-4e5f-9872-15cc95e85eed                                  lyft   \n",
              "2  6bdc30a6-9a80-487b-914e-8d9b82ee4acb                             lyft_plus   \n",
              "3  0cb12fe9-cd72-4feb-b341-4a566b2e6643                                  lyft   \n",
              "4  8ca92e07-e4b9-4191-a212-9098c5fed50a  6d318bcc-22a3-4af6-bddd-b409bfce1546   \n",
              "\n",
              "        name  price         key  trip_hour  \n",
              "0   UberPool    8.0  2018/11/28         10  \n",
              "1       Lyft   10.5  2018/12/16          0  \n",
              "2    Lyft XL   22.5  2018/11/30         23  \n",
              "3       Lyft    7.0  2018/11/30         12  \n",
              "4  Black SUV   29.5  2018/11/29          2  "
            ]
          },
          "execution_count": 113,
          "metadata": {},
          "output_type": "execute_result"
        }
      ],
      "source": [
        "taxi_data['trip_hour'] = pd.to_datetime(taxi_data['time_stamp'], unit='ms').dt.hour\n",
        "taxi_data.head()"
      ]
    },
    {
      "cell_type": "code",
      "execution_count": 114,
      "metadata": {
        "id": "qIPiCKcRbiLg"
      },
      "outputs": [],
      "source": [
        "#groub by  date  w  location then take average for other columns\n",
        "weather=weather_data.groupby(['key','location']).agg({'temp':'mean','clouds':'mean','pressure':'mean','humidity':'mean','wind':'mean'}).reset_index()"
      ]
    },
    {
      "cell_type": "code",
      "execution_count": 115,
      "metadata": {
        "id": "Ia4j251soVVk"
      },
      "outputs": [],
      "source": [
        "Data=taxi_data.merge(weather,how='left',left_on=['source','key'], right_on=['location','key'])\n",
        "Data=Data.merge(weather,how='left',left_on=['destination','key'], right_on=['location','key'])"
      ]
    },
    {
      "cell_type": "code",
      "execution_count": 116,
      "metadata": {
        "id": "vYrT555dphU-"
      },
      "outputs": [],
      "source": [
        "#Data_source.drop(['location','key'],axis=1,inplace=True)\n",
        "Data.drop(['key','location_x','location_y','destination','source'],axis=1,inplace=True)"
      ]
    },
    {
      "cell_type": "code",
      "execution_count": 117,
      "metadata": {
        "id": "mGNrCoYEKI_n"
      },
      "outputs": [],
      "source": [
        "Data['trip_hour'] = pd.to_datetime(Data['time_stamp'], unit='ms').dt.hour"
      ]
    },
    {
      "cell_type": "code",
      "execution_count": 118,
      "metadata": {
        "colab": {
          "base_uri": "https://localhost:8080/"
        },
        "id": "sn5vWMGol7Ay",
        "outputId": "311cbcb7-e8e0-452d-ac43-b2e2fd4dc564"
      },
      "outputs": [
        {
          "data": {
            "text/plain": [
              "0"
            ]
          },
          "execution_count": 118,
          "metadata": {},
          "output_type": "execute_result"
        }
      ],
      "source": [
        "weather.duplicated().sum()"
      ]
    },
    {
      "cell_type": "markdown",
      "metadata": {
        "id": "-d51e5xsJmW3"
      },
      "source": [
        "#**Feature selection**"
      ]
    },
    {
      "cell_type": "code",
      "execution_count": 119,
      "metadata": {
        "colab": {
          "base_uri": "https://localhost:8080/",
          "height": 584
        },
        "id": "RF9XsKUt3AOB",
        "outputId": "c10ae509-bed0-4d2d-9f53-72dc35461a79"
      },
      "outputs": [
        {
          "data": {
            "text/html": [
              "<div>\n",
              "<style scoped>\n",
              "    .dataframe tbody tr th:only-of-type {\n",
              "        vertical-align: middle;\n",
              "    }\n",
              "\n",
              "    .dataframe tbody tr th {\n",
              "        vertical-align: top;\n",
              "    }\n",
              "\n",
              "    .dataframe thead th {\n",
              "        text-align: right;\n",
              "    }\n",
              "</style>\n",
              "<table border=\"1\" class=\"dataframe\">\n",
              "  <thead>\n",
              "    <tr style=\"text-align: right;\">\n",
              "      <th></th>\n",
              "      <th>distance</th>\n",
              "      <th>time_stamp</th>\n",
              "      <th>surge_multiplier</th>\n",
              "      <th>price</th>\n",
              "      <th>trip_hour</th>\n",
              "      <th>temp_x</th>\n",
              "      <th>clouds_x</th>\n",
              "      <th>pressure_x</th>\n",
              "      <th>humidity_x</th>\n",
              "      <th>wind_x</th>\n",
              "      <th>temp_y</th>\n",
              "      <th>clouds_y</th>\n",
              "      <th>pressure_y</th>\n",
              "      <th>humidity_y</th>\n",
              "      <th>wind_y</th>\n",
              "    </tr>\n",
              "  </thead>\n",
              "  <tbody>\n",
              "    <tr>\n",
              "      <th>distance</th>\n",
              "      <td>1.000000</td>\n",
              "      <td>0.002796</td>\n",
              "      <td>0.025681</td>\n",
              "      <td>0.345093</td>\n",
              "      <td>0.002965</td>\n",
              "      <td>-0.005317</td>\n",
              "      <td>-0.000075</td>\n",
              "      <td>0.003550</td>\n",
              "      <td>-0.003549</td>\n",
              "      <td>-0.005823</td>\n",
              "      <td>-0.006798</td>\n",
              "      <td>-0.000210</td>\n",
              "      <td>0.003580</td>\n",
              "      <td>-0.001314</td>\n",
              "      <td>-0.006079</td>\n",
              "    </tr>\n",
              "    <tr>\n",
              "      <th>time_stamp</th>\n",
              "      <td>0.002796</td>\n",
              "      <td>1.000000</td>\n",
              "      <td>0.000867</td>\n",
              "      <td>0.000878</td>\n",
              "      <td>0.009779</td>\n",
              "      <td>-0.308485</td>\n",
              "      <td>-0.019099</td>\n",
              "      <td>0.557175</td>\n",
              "      <td>-0.265873</td>\n",
              "      <td>0.028086</td>\n",
              "      <td>-0.308444</td>\n",
              "      <td>-0.019133</td>\n",
              "      <td>0.557181</td>\n",
              "      <td>-0.265880</td>\n",
              "      <td>0.028058</td>\n",
              "    </tr>\n",
              "    <tr>\n",
              "      <th>surge_multiplier</th>\n",
              "      <td>0.025681</td>\n",
              "      <td>0.000867</td>\n",
              "      <td>1.000000</td>\n",
              "      <td>0.239984</td>\n",
              "      <td>-0.000012</td>\n",
              "      <td>-0.000405</td>\n",
              "      <td>0.000162</td>\n",
              "      <td>-0.002755</td>\n",
              "      <td>-0.000342</td>\n",
              "      <td>0.002577</td>\n",
              "      <td>0.000190</td>\n",
              "      <td>-0.000173</td>\n",
              "      <td>-0.002779</td>\n",
              "      <td>-0.001262</td>\n",
              "      <td>0.003704</td>\n",
              "    </tr>\n",
              "    <tr>\n",
              "      <th>price</th>\n",
              "      <td>0.345093</td>\n",
              "      <td>0.000878</td>\n",
              "      <td>0.239984</td>\n",
              "      <td>1.000000</td>\n",
              "      <td>0.001099</td>\n",
              "      <td>-0.002139</td>\n",
              "      <td>-0.000189</td>\n",
              "      <td>0.000604</td>\n",
              "      <td>-0.002776</td>\n",
              "      <td>-0.000474</td>\n",
              "      <td>-0.002607</td>\n",
              "      <td>-0.000257</td>\n",
              "      <td>0.000613</td>\n",
              "      <td>-0.002127</td>\n",
              "      <td>-0.000522</td>\n",
              "    </tr>\n",
              "    <tr>\n",
              "      <th>trip_hour</th>\n",
              "      <td>0.002965</td>\n",
              "      <td>0.009779</td>\n",
              "      <td>-0.000012</td>\n",
              "      <td>0.001099</td>\n",
              "      <td>1.000000</td>\n",
              "      <td>-0.013566</td>\n",
              "      <td>0.065387</td>\n",
              "      <td>0.000303</td>\n",
              "      <td>0.098583</td>\n",
              "      <td>-0.098929</td>\n",
              "      <td>-0.013668</td>\n",
              "      <td>0.065302</td>\n",
              "      <td>0.000307</td>\n",
              "      <td>0.098721</td>\n",
              "      <td>-0.098911</td>\n",
              "    </tr>\n",
              "    <tr>\n",
              "      <th>temp_x</th>\n",
              "      <td>-0.005317</td>\n",
              "      <td>-0.308485</td>\n",
              "      <td>-0.000405</td>\n",
              "      <td>-0.002139</td>\n",
              "      <td>-0.013566</td>\n",
              "      <td>1.000000</td>\n",
              "      <td>0.640631</td>\n",
              "      <td>-0.394686</td>\n",
              "      <td>0.737979</td>\n",
              "      <td>0.102099</td>\n",
              "      <td>0.998990</td>\n",
              "      <td>0.640734</td>\n",
              "      <td>-0.394685</td>\n",
              "      <td>0.739528</td>\n",
              "      <td>0.101756</td>\n",
              "    </tr>\n",
              "    <tr>\n",
              "      <th>clouds_x</th>\n",
              "      <td>-0.000075</td>\n",
              "      <td>-0.019099</td>\n",
              "      <td>0.000162</td>\n",
              "      <td>-0.000189</td>\n",
              "      <td>0.065387</td>\n",
              "      <td>0.640631</td>\n",
              "      <td>1.000000</td>\n",
              "      <td>-0.259721</td>\n",
              "      <td>0.829623</td>\n",
              "      <td>0.210383</td>\n",
              "      <td>0.640670</td>\n",
              "      <td>0.999835</td>\n",
              "      <td>-0.259723</td>\n",
              "      <td>0.829471</td>\n",
              "      <td>0.210359</td>\n",
              "    </tr>\n",
              "    <tr>\n",
              "      <th>pressure_x</th>\n",
              "      <td>0.003550</td>\n",
              "      <td>0.557175</td>\n",
              "      <td>-0.002755</td>\n",
              "      <td>0.000604</td>\n",
              "      <td>0.000303</td>\n",
              "      <td>-0.394686</td>\n",
              "      <td>-0.259721</td>\n",
              "      <td>1.000000</td>\n",
              "      <td>-0.232145</td>\n",
              "      <td>-0.689942</td>\n",
              "      <td>-0.394705</td>\n",
              "      <td>-0.259724</td>\n",
              "      <td>0.999999</td>\n",
              "      <td>-0.232061</td>\n",
              "      <td>-0.689903</td>\n",
              "    </tr>\n",
              "    <tr>\n",
              "      <th>humidity_x</th>\n",
              "      <td>-0.003549</td>\n",
              "      <td>-0.265873</td>\n",
              "      <td>-0.000342</td>\n",
              "      <td>-0.002776</td>\n",
              "      <td>0.098583</td>\n",
              "      <td>0.737979</td>\n",
              "      <td>0.829623</td>\n",
              "      <td>-0.232145</td>\n",
              "      <td>1.000000</td>\n",
              "      <td>-0.102051</td>\n",
              "      <td>0.739493</td>\n",
              "      <td>0.829515</td>\n",
              "      <td>-0.232161</td>\n",
              "      <td>0.997261</td>\n",
              "      <td>-0.101774</td>\n",
              "    </tr>\n",
              "    <tr>\n",
              "      <th>wind_x</th>\n",
              "      <td>-0.005823</td>\n",
              "      <td>0.028086</td>\n",
              "      <td>0.002577</td>\n",
              "      <td>-0.000474</td>\n",
              "      <td>-0.098929</td>\n",
              "      <td>0.102099</td>\n",
              "      <td>0.210383</td>\n",
              "      <td>-0.689942</td>\n",
              "      <td>-0.102051</td>\n",
              "      <td>1.000000</td>\n",
              "      <td>0.101869</td>\n",
              "      <td>0.210449</td>\n",
              "      <td>-0.689931</td>\n",
              "      <td>-0.101796</td>\n",
              "      <td>0.999351</td>\n",
              "    </tr>\n",
              "    <tr>\n",
              "      <th>temp_y</th>\n",
              "      <td>-0.006798</td>\n",
              "      <td>-0.308444</td>\n",
              "      <td>0.000190</td>\n",
              "      <td>-0.002607</td>\n",
              "      <td>-0.013668</td>\n",
              "      <td>0.998990</td>\n",
              "      <td>0.640670</td>\n",
              "      <td>-0.394705</td>\n",
              "      <td>0.739493</td>\n",
              "      <td>0.101869</td>\n",
              "      <td>1.000000</td>\n",
              "      <td>0.640601</td>\n",
              "      <td>-0.394719</td>\n",
              "      <td>0.737818</td>\n",
              "      <td>0.102130</td>\n",
              "    </tr>\n",
              "    <tr>\n",
              "      <th>clouds_y</th>\n",
              "      <td>-0.000210</td>\n",
              "      <td>-0.019133</td>\n",
              "      <td>-0.000173</td>\n",
              "      <td>-0.000257</td>\n",
              "      <td>0.065302</td>\n",
              "      <td>0.640734</td>\n",
              "      <td>0.999835</td>\n",
              "      <td>-0.259724</td>\n",
              "      <td>0.829515</td>\n",
              "      <td>0.210449</td>\n",
              "      <td>0.640601</td>\n",
              "      <td>1.000000</td>\n",
              "      <td>-0.259723</td>\n",
              "      <td>0.829602</td>\n",
              "      <td>0.210258</td>\n",
              "    </tr>\n",
              "    <tr>\n",
              "      <th>pressure_y</th>\n",
              "      <td>0.003580</td>\n",
              "      <td>0.557181</td>\n",
              "      <td>-0.002779</td>\n",
              "      <td>0.000613</td>\n",
              "      <td>0.000307</td>\n",
              "      <td>-0.394685</td>\n",
              "      <td>-0.259723</td>\n",
              "      <td>0.999999</td>\n",
              "      <td>-0.232161</td>\n",
              "      <td>-0.689931</td>\n",
              "      <td>-0.394719</td>\n",
              "      <td>-0.259723</td>\n",
              "      <td>1.000000</td>\n",
              "      <td>-0.232053</td>\n",
              "      <td>-0.689904</td>\n",
              "    </tr>\n",
              "    <tr>\n",
              "      <th>humidity_y</th>\n",
              "      <td>-0.001314</td>\n",
              "      <td>-0.265880</td>\n",
              "      <td>-0.001262</td>\n",
              "      <td>-0.002127</td>\n",
              "      <td>0.098721</td>\n",
              "      <td>0.739528</td>\n",
              "      <td>0.829471</td>\n",
              "      <td>-0.232061</td>\n",
              "      <td>0.997261</td>\n",
              "      <td>-0.101796</td>\n",
              "      <td>0.737818</td>\n",
              "      <td>0.829602</td>\n",
              "      <td>-0.232053</td>\n",
              "      <td>1.000000</td>\n",
              "      <td>-0.102273</td>\n",
              "    </tr>\n",
              "    <tr>\n",
              "      <th>wind_y</th>\n",
              "      <td>-0.006079</td>\n",
              "      <td>0.028058</td>\n",
              "      <td>0.003704</td>\n",
              "      <td>-0.000522</td>\n",
              "      <td>-0.098911</td>\n",
              "      <td>0.101756</td>\n",
              "      <td>0.210359</td>\n",
              "      <td>-0.689903</td>\n",
              "      <td>-0.101774</td>\n",
              "      <td>0.999351</td>\n",
              "      <td>0.102130</td>\n",
              "      <td>0.210258</td>\n",
              "      <td>-0.689904</td>\n",
              "      <td>-0.102273</td>\n",
              "      <td>1.000000</td>\n",
              "    </tr>\n",
              "  </tbody>\n",
              "</table>\n",
              "</div>"
            ],
            "text/plain": [
              "                  distance  time_stamp  surge_multiplier     price  trip_hour  \\\n",
              "distance          1.000000    0.002796          0.025681  0.345093   0.002965   \n",
              "time_stamp        0.002796    1.000000          0.000867  0.000878   0.009779   \n",
              "surge_multiplier  0.025681    0.000867          1.000000  0.239984  -0.000012   \n",
              "price             0.345093    0.000878          0.239984  1.000000   0.001099   \n",
              "trip_hour         0.002965    0.009779         -0.000012  0.001099   1.000000   \n",
              "temp_x           -0.005317   -0.308485         -0.000405 -0.002139  -0.013566   \n",
              "clouds_x         -0.000075   -0.019099          0.000162 -0.000189   0.065387   \n",
              "pressure_x        0.003550    0.557175         -0.002755  0.000604   0.000303   \n",
              "humidity_x       -0.003549   -0.265873         -0.000342 -0.002776   0.098583   \n",
              "wind_x           -0.005823    0.028086          0.002577 -0.000474  -0.098929   \n",
              "temp_y           -0.006798   -0.308444          0.000190 -0.002607  -0.013668   \n",
              "clouds_y         -0.000210   -0.019133         -0.000173 -0.000257   0.065302   \n",
              "pressure_y        0.003580    0.557181         -0.002779  0.000613   0.000307   \n",
              "humidity_y       -0.001314   -0.265880         -0.001262 -0.002127   0.098721   \n",
              "wind_y           -0.006079    0.028058          0.003704 -0.000522  -0.098911   \n",
              "\n",
              "                    temp_x  clouds_x  pressure_x  humidity_x    wind_x  \\\n",
              "distance         -0.005317 -0.000075    0.003550   -0.003549 -0.005823   \n",
              "time_stamp       -0.308485 -0.019099    0.557175   -0.265873  0.028086   \n",
              "surge_multiplier -0.000405  0.000162   -0.002755   -0.000342  0.002577   \n",
              "price            -0.002139 -0.000189    0.000604   -0.002776 -0.000474   \n",
              "trip_hour        -0.013566  0.065387    0.000303    0.098583 -0.098929   \n",
              "temp_x            1.000000  0.640631   -0.394686    0.737979  0.102099   \n",
              "clouds_x          0.640631  1.000000   -0.259721    0.829623  0.210383   \n",
              "pressure_x       -0.394686 -0.259721    1.000000   -0.232145 -0.689942   \n",
              "humidity_x        0.737979  0.829623   -0.232145    1.000000 -0.102051   \n",
              "wind_x            0.102099  0.210383   -0.689942   -0.102051  1.000000   \n",
              "temp_y            0.998990  0.640670   -0.394705    0.739493  0.101869   \n",
              "clouds_y          0.640734  0.999835   -0.259724    0.829515  0.210449   \n",
              "pressure_y       -0.394685 -0.259723    0.999999   -0.232161 -0.689931   \n",
              "humidity_y        0.739528  0.829471   -0.232061    0.997261 -0.101796   \n",
              "wind_y            0.101756  0.210359   -0.689903   -0.101774  0.999351   \n",
              "\n",
              "                    temp_y  clouds_y  pressure_y  humidity_y    wind_y  \n",
              "distance         -0.006798 -0.000210    0.003580   -0.001314 -0.006079  \n",
              "time_stamp       -0.308444 -0.019133    0.557181   -0.265880  0.028058  \n",
              "surge_multiplier  0.000190 -0.000173   -0.002779   -0.001262  0.003704  \n",
              "price            -0.002607 -0.000257    0.000613   -0.002127 -0.000522  \n",
              "trip_hour        -0.013668  0.065302    0.000307    0.098721 -0.098911  \n",
              "temp_x            0.998990  0.640734   -0.394685    0.739528  0.101756  \n",
              "clouds_x          0.640670  0.999835   -0.259723    0.829471  0.210359  \n",
              "pressure_x       -0.394705 -0.259724    0.999999   -0.232061 -0.689903  \n",
              "humidity_x        0.739493  0.829515   -0.232161    0.997261 -0.101774  \n",
              "wind_x            0.101869  0.210449   -0.689931   -0.101796  0.999351  \n",
              "temp_y            1.000000  0.640601   -0.394719    0.737818  0.102130  \n",
              "clouds_y          0.640601  1.000000   -0.259723    0.829602  0.210258  \n",
              "pressure_y       -0.394719 -0.259723    1.000000   -0.232053 -0.689904  \n",
              "humidity_y        0.737818  0.829602   -0.232053    1.000000 -0.102273  \n",
              "wind_y            0.102130  0.210258   -0.689904   -0.102273  1.000000  "
            ]
          },
          "execution_count": 119,
          "metadata": {},
          "output_type": "execute_result"
        }
      ],
      "source": [
        "Data.corr()"
      ]
    },
    {
      "cell_type": "code",
      "execution_count": 120,
      "metadata": {
        "colab": {
          "base_uri": "https://localhost:8080/",
          "height": 206
        },
        "id": "9sjOl_tgJ1h_",
        "outputId": "6621aad1-2236-4671-8b3a-6d784b432e29"
      },
      "outputs": [
        {
          "data": {
            "text/html": [
              "<div>\n",
              "<style scoped>\n",
              "    .dataframe tbody tr th:only-of-type {\n",
              "        vertical-align: middle;\n",
              "    }\n",
              "\n",
              "    .dataframe tbody tr th {\n",
              "        vertical-align: top;\n",
              "    }\n",
              "\n",
              "    .dataframe thead th {\n",
              "        text-align: right;\n",
              "    }\n",
              "</style>\n",
              "<table border=\"1\" class=\"dataframe\">\n",
              "  <thead>\n",
              "    <tr style=\"text-align: right;\">\n",
              "      <th></th>\n",
              "      <th>distance</th>\n",
              "      <th>cab_type</th>\n",
              "      <th>surge_multiplier</th>\n",
              "      <th>name</th>\n",
              "      <th>price</th>\n",
              "      <th>trip_hour</th>\n",
              "      <th>temp_x</th>\n",
              "      <th>pressure_x</th>\n",
              "      <th>humidity_x</th>\n",
              "      <th>temp_y</th>\n",
              "      <th>pressure_y</th>\n",
              "      <th>humidity_y</th>\n",
              "    </tr>\n",
              "  </thead>\n",
              "  <tbody>\n",
              "    <tr>\n",
              "      <th>0</th>\n",
              "      <td>2.27</td>\n",
              "      <td>Uber</td>\n",
              "      <td>1.0</td>\n",
              "      <td>UberPool</td>\n",
              "      <td>8.0</td>\n",
              "      <td>10</td>\n",
              "      <td>37.098861</td>\n",
              "      <td>992.196709</td>\n",
              "      <td>0.731392</td>\n",
              "      <td>37.127848</td>\n",
              "      <td>992.227722</td>\n",
              "      <td>0.729873</td>\n",
              "    </tr>\n",
              "    <tr>\n",
              "      <th>1</th>\n",
              "      <td>2.00</td>\n",
              "      <td>Lyft</td>\n",
              "      <td>1.0</td>\n",
              "      <td>Lyft</td>\n",
              "      <td>10.5</td>\n",
              "      <td>0</td>\n",
              "      <td>41.034167</td>\n",
              "      <td>1020.190833</td>\n",
              "      <td>0.735417</td>\n",
              "      <td>41.039583</td>\n",
              "      <td>1020.168333</td>\n",
              "      <td>0.734583</td>\n",
              "    </tr>\n",
              "    <tr>\n",
              "      <th>2</th>\n",
              "      <td>3.98</td>\n",
              "      <td>Lyft</td>\n",
              "      <td>1.0</td>\n",
              "      <td>Lyft XL</td>\n",
              "      <td>22.5</td>\n",
              "      <td>23</td>\n",
              "      <td>35.585600</td>\n",
              "      <td>1015.532800</td>\n",
              "      <td>0.714000</td>\n",
              "      <td>35.612800</td>\n",
              "      <td>1015.528400</td>\n",
              "      <td>0.714000</td>\n",
              "    </tr>\n",
              "    <tr>\n",
              "      <th>3</th>\n",
              "      <td>1.49</td>\n",
              "      <td>Lyft</td>\n",
              "      <td>1.0</td>\n",
              "      <td>Lyft</td>\n",
              "      <td>7.0</td>\n",
              "      <td>12</td>\n",
              "      <td>35.585600</td>\n",
              "      <td>1015.532800</td>\n",
              "      <td>0.714000</td>\n",
              "      <td>35.646800</td>\n",
              "      <td>1015.540400</td>\n",
              "      <td>0.711600</td>\n",
              "    </tr>\n",
              "    <tr>\n",
              "      <th>4</th>\n",
              "      <td>1.97</td>\n",
              "      <td>Uber</td>\n",
              "      <td>1.0</td>\n",
              "      <td>Black SUV</td>\n",
              "      <td>29.5</td>\n",
              "      <td>2</td>\n",
              "      <td>38.877031</td>\n",
              "      <td>1000.915000</td>\n",
              "      <td>0.672812</td>\n",
              "      <td>38.730938</td>\n",
              "      <td>1000.940000</td>\n",
              "      <td>0.676094</td>\n",
              "    </tr>\n",
              "  </tbody>\n",
              "</table>\n",
              "</div>"
            ],
            "text/plain": [
              "   distance cab_type  surge_multiplier       name  price  trip_hour  \\\n",
              "0      2.27     Uber               1.0   UberPool    8.0         10   \n",
              "1      2.00     Lyft               1.0       Lyft   10.5          0   \n",
              "2      3.98     Lyft               1.0    Lyft XL   22.5         23   \n",
              "3      1.49     Lyft               1.0       Lyft    7.0         12   \n",
              "4      1.97     Uber               1.0  Black SUV   29.5          2   \n",
              "\n",
              "      temp_x   pressure_x  humidity_x     temp_y   pressure_y  humidity_y  \n",
              "0  37.098861   992.196709    0.731392  37.127848   992.227722    0.729873  \n",
              "1  41.034167  1020.190833    0.735417  41.039583  1020.168333    0.734583  \n",
              "2  35.585600  1015.532800    0.714000  35.612800  1015.528400    0.714000  \n",
              "3  35.585600  1015.532800    0.714000  35.646800  1015.540400    0.711600  \n",
              "4  38.877031  1000.915000    0.672812  38.730938  1000.940000    0.676094  "
            ]
          },
          "execution_count": 120,
          "metadata": {},
          "output_type": "execute_result"
        }
      ],
      "source": [
        "Data=Data.drop(['id','product_id','time_stamp','clouds_x','clouds_y','wind_x','wind_y'],axis=1,inplace=False)\n",
        "Data.head()"
      ]
    },
    {
      "cell_type": "markdown",
      "metadata": {
        "id": "Rxv-p--w5XVq"
      },
      "source": [
        "# **Label encoding**"
      ]
    },
    {
      "cell_type": "code",
      "execution_count": 121,
      "metadata": {
        "id": "DwHfo__fK3ve"
      },
      "outputs": [],
      "source": [
        "Data['cab_type']=Data.cab_type.map(dict(Uber=0,Lyft=1))"
      ]
    },
    {
      "cell_type": "code",
      "execution_count": 122,
      "metadata": {
        "id": "G0j_uHpCSCsI"
      },
      "outputs": [],
      "source": [
        "encoder = OneHotEncoder(handle_unknown='ignore')\n",
        "encoder_df = pd.DataFrame(encoder.fit_transform(Data[['name']]).toarray())\n",
        "Data = Data.join(encoder_df)\n",
        "Data=Data.rename(columns={0: \"name0\", 1: \"name1\", 2: \"name2\" , 3 :'name3' , 4: \"name4\", 5: \"name5\", 6: \"name6\" , 7 :'name7' ,8: \"name8\", 9: \"name9\", 10: \"name10\" , 11 :'name11',12:'name12'})\n",
        "Data.drop('name',axis=1,inplace=True)"
      ]
    },
    {
      "cell_type": "code",
      "execution_count": 123,
      "metadata": {},
      "outputs": [],
      "source": [
        "with open('encoder', 'wb') as files:\n",
        "    pickle.dump(encoder, files)"
      ]
    },
    {
      "cell_type": "code",
      "execution_count": 124,
      "metadata": {
        "id": "qszjGOUFi1Jc"
      },
      "outputs": [
        {
          "data": {
            "text/html": [
              "<div>\n",
              "<style scoped>\n",
              "    .dataframe tbody tr th:only-of-type {\n",
              "        vertical-align: middle;\n",
              "    }\n",
              "\n",
              "    .dataframe tbody tr th {\n",
              "        vertical-align: top;\n",
              "    }\n",
              "\n",
              "    .dataframe thead th {\n",
              "        text-align: right;\n",
              "    }\n",
              "</style>\n",
              "<table border=\"1\" class=\"dataframe\">\n",
              "  <thead>\n",
              "    <tr style=\"text-align: right;\">\n",
              "      <th></th>\n",
              "      <th>distance</th>\n",
              "      <th>cab_type</th>\n",
              "      <th>surge_multiplier</th>\n",
              "      <th>price</th>\n",
              "      <th>trip_hour</th>\n",
              "      <th>temp_x</th>\n",
              "      <th>pressure_x</th>\n",
              "      <th>humidity_x</th>\n",
              "      <th>temp_y</th>\n",
              "      <th>pressure_y</th>\n",
              "      <th>...</th>\n",
              "      <th>name2</th>\n",
              "      <th>name3</th>\n",
              "      <th>name4</th>\n",
              "      <th>name5</th>\n",
              "      <th>name6</th>\n",
              "      <th>name7</th>\n",
              "      <th>name8</th>\n",
              "      <th>name9</th>\n",
              "      <th>name10</th>\n",
              "      <th>name11</th>\n",
              "    </tr>\n",
              "  </thead>\n",
              "  <tbody>\n",
              "    <tr>\n",
              "      <th>0</th>\n",
              "      <td>2.27</td>\n",
              "      <td>0</td>\n",
              "      <td>1.0</td>\n",
              "      <td>8.0</td>\n",
              "      <td>10</td>\n",
              "      <td>37.098861</td>\n",
              "      <td>992.196709</td>\n",
              "      <td>0.731392</td>\n",
              "      <td>37.127848</td>\n",
              "      <td>992.227722</td>\n",
              "      <td>...</td>\n",
              "      <td>0.0</td>\n",
              "      <td>0.0</td>\n",
              "      <td>0.0</td>\n",
              "      <td>0.0</td>\n",
              "      <td>0.0</td>\n",
              "      <td>0.0</td>\n",
              "      <td>1.0</td>\n",
              "      <td>0.0</td>\n",
              "      <td>0.0</td>\n",
              "      <td>0.0</td>\n",
              "    </tr>\n",
              "    <tr>\n",
              "      <th>1</th>\n",
              "      <td>2.00</td>\n",
              "      <td>1</td>\n",
              "      <td>1.0</td>\n",
              "      <td>10.5</td>\n",
              "      <td>0</td>\n",
              "      <td>41.034167</td>\n",
              "      <td>1020.190833</td>\n",
              "      <td>0.735417</td>\n",
              "      <td>41.039583</td>\n",
              "      <td>1020.168333</td>\n",
              "      <td>...</td>\n",
              "      <td>0.0</td>\n",
              "      <td>0.0</td>\n",
              "      <td>0.0</td>\n",
              "      <td>1.0</td>\n",
              "      <td>0.0</td>\n",
              "      <td>0.0</td>\n",
              "      <td>0.0</td>\n",
              "      <td>0.0</td>\n",
              "      <td>0.0</td>\n",
              "      <td>0.0</td>\n",
              "    </tr>\n",
              "    <tr>\n",
              "      <th>2</th>\n",
              "      <td>3.98</td>\n",
              "      <td>1</td>\n",
              "      <td>1.0</td>\n",
              "      <td>22.5</td>\n",
              "      <td>23</td>\n",
              "      <td>35.585600</td>\n",
              "      <td>1015.532800</td>\n",
              "      <td>0.714000</td>\n",
              "      <td>35.612800</td>\n",
              "      <td>1015.528400</td>\n",
              "      <td>...</td>\n",
              "      <td>0.0</td>\n",
              "      <td>0.0</td>\n",
              "      <td>0.0</td>\n",
              "      <td>0.0</td>\n",
              "      <td>1.0</td>\n",
              "      <td>0.0</td>\n",
              "      <td>0.0</td>\n",
              "      <td>0.0</td>\n",
              "      <td>0.0</td>\n",
              "      <td>0.0</td>\n",
              "    </tr>\n",
              "    <tr>\n",
              "      <th>3</th>\n",
              "      <td>1.49</td>\n",
              "      <td>1</td>\n",
              "      <td>1.0</td>\n",
              "      <td>7.0</td>\n",
              "      <td>12</td>\n",
              "      <td>35.585600</td>\n",
              "      <td>1015.532800</td>\n",
              "      <td>0.714000</td>\n",
              "      <td>35.646800</td>\n",
              "      <td>1015.540400</td>\n",
              "      <td>...</td>\n",
              "      <td>0.0</td>\n",
              "      <td>0.0</td>\n",
              "      <td>0.0</td>\n",
              "      <td>1.0</td>\n",
              "      <td>0.0</td>\n",
              "      <td>0.0</td>\n",
              "      <td>0.0</td>\n",
              "      <td>0.0</td>\n",
              "      <td>0.0</td>\n",
              "      <td>0.0</td>\n",
              "    </tr>\n",
              "    <tr>\n",
              "      <th>4</th>\n",
              "      <td>1.97</td>\n",
              "      <td>0</td>\n",
              "      <td>1.0</td>\n",
              "      <td>29.5</td>\n",
              "      <td>2</td>\n",
              "      <td>38.877031</td>\n",
              "      <td>1000.915000</td>\n",
              "      <td>0.672812</td>\n",
              "      <td>38.730938</td>\n",
              "      <td>1000.940000</td>\n",
              "      <td>...</td>\n",
              "      <td>0.0</td>\n",
              "      <td>0.0</td>\n",
              "      <td>0.0</td>\n",
              "      <td>0.0</td>\n",
              "      <td>0.0</td>\n",
              "      <td>0.0</td>\n",
              "      <td>0.0</td>\n",
              "      <td>0.0</td>\n",
              "      <td>0.0</td>\n",
              "      <td>0.0</td>\n",
              "    </tr>\n",
              "  </tbody>\n",
              "</table>\n",
              "<p>5 rows × 23 columns</p>\n",
              "</div>"
            ],
            "text/plain": [
              "   distance  cab_type  surge_multiplier  price  trip_hour     temp_x  \\\n",
              "0      2.27         0               1.0    8.0         10  37.098861   \n",
              "1      2.00         1               1.0   10.5          0  41.034167   \n",
              "2      3.98         1               1.0   22.5         23  35.585600   \n",
              "3      1.49         1               1.0    7.0         12  35.585600   \n",
              "4      1.97         0               1.0   29.5          2  38.877031   \n",
              "\n",
              "    pressure_x  humidity_x     temp_y   pressure_y  ...  name2  name3  name4  \\\n",
              "0   992.196709    0.731392  37.127848   992.227722  ...    0.0    0.0    0.0   \n",
              "1  1020.190833    0.735417  41.039583  1020.168333  ...    0.0    0.0    0.0   \n",
              "2  1015.532800    0.714000  35.612800  1015.528400  ...    0.0    0.0    0.0   \n",
              "3  1015.532800    0.714000  35.646800  1015.540400  ...    0.0    0.0    0.0   \n",
              "4  1000.915000    0.672812  38.730938  1000.940000  ...    0.0    0.0    0.0   \n",
              "\n",
              "   name5  name6  name7  name8  name9  name10  name11  \n",
              "0    0.0    0.0    0.0    1.0    0.0     0.0     0.0  \n",
              "1    1.0    0.0    0.0    0.0    0.0     0.0     0.0  \n",
              "2    0.0    1.0    0.0    0.0    0.0     0.0     0.0  \n",
              "3    1.0    0.0    0.0    0.0    0.0     0.0     0.0  \n",
              "4    0.0    0.0    0.0    0.0    0.0     0.0     0.0  \n",
              "\n",
              "[5 rows x 23 columns]"
            ]
          },
          "execution_count": 124,
          "metadata": {},
          "output_type": "execute_result"
        }
      ],
      "source": [
        "Data.head()"
      ]
    },
    {
      "cell_type": "code",
      "execution_count": 125,
      "metadata": {
        "id": "pgyWhuyNMpND"
      },
      "outputs": [],
      "source": [
        "X=Data.drop(['price'],axis=1,inplace=False)\n",
        "#X=FeatureScalling(X)\n",
        "min_max=MinMaxScaler()\n",
        "X=min_max.fit_transform(X)\n",
        "\n",
        "pca=PCA(n_components=16)\n",
        "X=pca.fit_transform(X)\n",
        "\n",
        "y=Data['price']#label\n",
        "X_train,X_test,y_train,y_test=train_test_split(X,y,test_size=0.3,shuffle=False,random_state=42)"
      ]
    },
    {
      "cell_type": "code",
      "execution_count": 126,
      "metadata": {},
      "outputs": [],
      "source": [
        "with open('min_max', 'wb') as files:\n",
        "    pickle.dump(min_max, files)\n",
        "\n",
        "with open('pca', 'wb') as files:\n",
        "    pickle.dump(pca, files)    "
      ]
    },
    {
      "cell_type": "markdown",
      "metadata": {
        "id": "yN254fbzWOw0"
      },
      "source": [
        "# **Models**"
      ]
    },
    {
      "cell_type": "code",
      "execution_count": 139,
      "metadata": {
        "colab": {
          "base_uri": "https://localhost:8080/"
        },
        "id": "i70bc9yLS4yO",
        "outputId": "71d736a2-5477-4ab2-c43a-a482f8bee01d"
      },
      "outputs": [
        {
          "name": "stdout",
          "output_type": "stream",
          "text": [
            "Mean Square Error: 3.343986457411804\n",
            "r2_score : 0.9614445978937223\n"
          ]
        }
      ],
      "source": [
        "X=Data.drop(['price'],axis=1,inplace=False)\n",
        "X=min_max.transform(X)\n",
        "y=Data['price']#label\n",
        "X=pca.transform(X)\n",
        "model_1=PolynomialRegressionModel(X_train,y_train,X_test,y_test,3)\n",
        "preds=model_1.predict(X)"
      ]
    },
    {
      "cell_type": "code",
      "execution_count": 140,
      "metadata": {},
      "outputs": [],
      "source": [
        "with open('pipeline2', 'wb') as files:\n",
        "    pickle.dump(model_1, files)"
      ]
    },
    {
      "cell_type": "code",
      "execution_count": 128,
      "metadata": {},
      "outputs": [],
      "source": [
        "with open('pipeline', 'wb') as files:\n",
        "    pickle.dump(model_1, files)"
      ]
    },
    {
      "cell_type": "code",
      "execution_count": 129,
      "metadata": {
        "colab": {
          "base_uri": "https://localhost:8080/"
        },
        "id": "--qWwrCFLezg",
        "outputId": "20bcd560-f955-4099-c7d3-ddc5623e00e1"
      },
      "outputs": [
        {
          "name": "stdout",
          "output_type": "stream",
          "text": [
            "Mean Square Error: 9.144962624225313\n",
            "r2_score : 0.8945606641311625\n"
          ]
        }
      ],
      "source": [
        "model_2=LinearRegressionModel(X_train,y_train,X_test,y_test)"
      ]
    },
    {
      "cell_type": "code",
      "execution_count": 130,
      "metadata": {},
      "outputs": [],
      "source": [
        "\n",
        "with open('model_2', 'wb') as files:\n",
        "    pickle.dump(model_2, files)  "
      ]
    },
    {
      "cell_type": "code",
      "execution_count": 131,
      "metadata": {
        "colab": {
          "base_uri": "https://localhost:8080/"
        },
        "id": "soxIRaT4h9Y2",
        "outputId": "4966e17f-ce78-4249-de68-737d606d7aa3"
      },
      "outputs": [
        {
          "name": "stdout",
          "output_type": "stream",
          "text": [
            "model 1 cross validation score is 3.7629428126912496\n"
          ]
        }
      ],
      "source": [
        "model_1_poly_features = PolynomialFeatures(degree=2)\n",
        "# transforms the existing features to higher degree features.\n",
        "X_train_poly_model_1 = model_1_poly_features.fit_transform(X_train)\n",
        "# fit the transformed features to Linear Regression\n",
        "poly_model1 = linear_model.LinearRegression()\n",
        "scores = cross_val_score(poly_model1, X_train_poly_model_1, y_train, scoring='neg_mean_squared_error', cv=7)\n",
        "model_1_score = abs(scores.mean())\n",
        "poly_model1.fit(X_train_poly_model_1, y_train)\n",
        "print(\"model 1 cross validation score is \"+ str(model_1_score))"
      ]
    },
    {
      "cell_type": "code",
      "execution_count": 132,
      "metadata": {
        "colab": {
          "base_uri": "https://localhost:8080/",
          "height": 142
        },
        "id": "9aehJ4YwrO1X",
        "outputId": "75b1d965-720c-4e86-ea31-245c09887766"
      },
      "outputs": [
        {
          "data": {
            "text/html": [
              "<div>\n",
              "<style scoped>\n",
              "    .dataframe tbody tr th:only-of-type {\n",
              "        vertical-align: middle;\n",
              "    }\n",
              "\n",
              "    .dataframe tbody tr th {\n",
              "        vertical-align: top;\n",
              "    }\n",
              "\n",
              "    .dataframe thead th {\n",
              "        text-align: right;\n",
              "    }\n",
              "</style>\n",
              "<table border=\"1\" class=\"dataframe\">\n",
              "  <thead>\n",
              "    <tr style=\"text-align: right;\">\n",
              "      <th></th>\n",
              "      <th>distance</th>\n",
              "      <th>cab_type</th>\n",
              "      <th>time_stamp</th>\n",
              "      <th>destination</th>\n",
              "      <th>source</th>\n",
              "      <th>surge_multiplier</th>\n",
              "      <th>id</th>\n",
              "      <th>product_id</th>\n",
              "      <th>name</th>\n",
              "      <th>price</th>\n",
              "      <th>key</th>\n",
              "      <th>trip_hour</th>\n",
              "    </tr>\n",
              "  </thead>\n",
              "  <tbody>\n",
              "    <tr>\n",
              "      <th>0</th>\n",
              "      <td>2.27</td>\n",
              "      <td>Uber</td>\n",
              "      <td>1.543400e+12</td>\n",
              "      <td>Boston University</td>\n",
              "      <td>Beacon Hill</td>\n",
              "      <td>1.0</td>\n",
              "      <td>f9e7e7e6-b309-479b-9f90-bf26a1870c81</td>\n",
              "      <td>997acbb5-e102-41e1-b155-9df7de0a73f2</td>\n",
              "      <td>UberPool</td>\n",
              "      <td>8.0</td>\n",
              "      <td>2018/11/28</td>\n",
              "      <td>10</td>\n",
              "    </tr>\n",
              "  </tbody>\n",
              "</table>\n",
              "</div>"
            ],
            "text/plain": [
              "   distance cab_type    time_stamp        destination       source  \\\n",
              "0      2.27     Uber  1.543400e+12  Boston University  Beacon Hill   \n",
              "\n",
              "   surge_multiplier                                    id  \\\n",
              "0               1.0  f9e7e7e6-b309-479b-9f90-bf26a1870c81   \n",
              "\n",
              "                             product_id      name  price         key  \\\n",
              "0  997acbb5-e102-41e1-b155-9df7de0a73f2  UberPool    8.0  2018/11/28   \n",
              "\n",
              "   trip_hour  \n",
              "0         10  "
            ]
          },
          "execution_count": 132,
          "metadata": {},
          "output_type": "execute_result"
        }
      ],
      "source": [
        "taxi_data.head(1)"
      ]
    },
    {
      "cell_type": "code",
      "execution_count": 3,
      "metadata": {},
      "outputs": [
        {
          "name": "stdout",
          "output_type": "stream",
          "text": [
            "Mean Square Error: 3.4956103612364515\n",
            "r2_score : 0.9597720477907636\n"
          ]
        }
      ],
      "source": [
        "#test senario\n",
        "with open('pca' , 'rb') as f:\n",
        "    pca= pickle.load(f)\n",
        "\n",
        "with open('pipeline2' , 'rb') as f:\n",
        "    model_2= pickle.load(f)\n",
        "\n",
        "with open('min_max' , 'rb') as f:\n",
        "    min_max= pickle.load(f)\n",
        "\n",
        "with open('encoder' , 'rb') as f:\n",
        "    encoder= pickle.load(f)\n",
        "train_data=pd.read_csv((\"taxi-rides.csv\"))\n",
        "\n",
        "test_data=pd.read_csv(\"taxi-tas-regression-test.csv\")\n",
        "weather_data=pd.read_csv('weather.csv')\n",
        "#TestCsv(test_data=test_data,train_data=train_data,model=model_2,weather_data=weather_data,encoder=encoder,min_max=min_max,pca=pca)\n",
        "TestCsv(test_data=test_data,train_data=train_data,model=model_2,weather_data=weather_data,encoder=encoder,min_max=min_max,pca=pca)"
      ]
    },
    {
      "cell_type": "code",
      "execution_count": 2,
      "metadata": {
        "id": "IN-pL3UDDi6d"
      },
      "outputs": [],
      "source": [
        "def TestCsv(test_data,train_data,model,weather_data,encoder,min_max,pca):\n",
        "\n",
        "\n",
        "  #fill null values\n",
        "\n",
        "  test_data['distance'].fillna(train_data['distance'].mean())\n",
        "  test_data['cab_type'].fillna(train_data['cab_type'].mode())\n",
        "  test_data['time_stamp'].fillna(train_data['time_stamp'].mode())\n",
        "  test_data['destination'].fillna(train_data['destination'].mode())\n",
        "  test_data['source'].fillna(train_data['source'].mode())\n",
        "  test_data['surge_multiplier'].fillna(train_data['surge_multiplier'].mean())\n",
        "  \n",
        "  test_data['name'].fillna(train_data['name'].mode())\n",
        "  test_data['price'].fillna(train_data['price'].mean())\n",
        "\n",
        "  #merge taxi data and weather\n",
        "  test_data['key'] = pd.to_datetime(test_data['time_stamp'], unit='ms').apply(lambda x: x.strftime(('%Y/%m/%d')))\n",
        "  weather_data['key']=pd.to_datetime(weather_data['time_stamp'], unit='s').apply(lambda x: x.strftime(('%Y/%m/%d')))\n",
        "  test_data['trip_hour'] = pd.to_datetime(test_data['time_stamp'], unit='ms').dt.hour\n",
        "  weather=weather_data.groupby(['key','location']).agg({'temp':'mean','clouds':'mean','pressure':'mean','humidity':'mean','wind':'mean'}).reset_index()\n",
        "  test=test_data.merge(weather,how='left',left_on=['source','key'], right_on=['location','key'])\n",
        "  test=test.merge(weather,how='left',left_on=['destination','key'], right_on=['location','key'])\n",
        "  test.drop(['key','location_x','location_y','destination','source'],axis=1,inplace=True)\n",
        "  \n",
        "  #drop non helpfull features\n",
        "  test=test.drop(['id','product_id','time_stamp','clouds_x','clouds_y','wind_x','wind_y'],axis=1,inplace=False)\n",
        "  \n",
        "  #map cab type  to 0 when uber and 1 if Lyft\n",
        "  test['cab_type']=test.cab_type.map(dict(Uber=0,Lyft=1)) \n",
        "\n",
        "  #label encoding for name category\n",
        "  encoder_name = pd.DataFrame(encoder.transform(test[['name']]).toarray())\n",
        "  test = test.join(encoder_name)\n",
        "  test=test.rename(columns={0: \"name0\", 1: \"name1\", 2: \"name2\" , 3 :'name3' , 4: \"name4\", 5: \"name5\", 6: \"name6\" , 7 :'name7' ,8: \"name8\", 9: \"name9\", 10: \"name10\" , 11 :'name11',12:'name12'})\n",
        "  test.drop('name',axis=1,inplace=True)\n",
        "\n",
        "  #scaling data\n",
        "\n",
        "  X=test.drop(['price'],axis=1,inplace=False)\n",
        "  X=min_max.transform(X)\n",
        "  y=test['price']#label\n",
        "  X=pca.transform(X)\n",
        "  preds=model.predict(X)\n",
        "  print('Mean Square Error:', metrics.mean_squared_error(y, preds))\n",
        "  print('r2_score :', metrics.r2_score(y, preds)) \n",
        "\n",
        "\n",
        "  \n",
        "  \n"
      ]
    },
    {
      "cell_type": "code",
      "execution_count": null,
      "metadata": {},
      "outputs": [],
      "source": []
    }
  ],
  "metadata": {
    "colab": {
      "collapsed_sections": [],
      "name": "Taxi_problem1.ipynb",
      "provenance": []
    },
    "interpreter": {
      "hash": "e61bd8b0a13d4c7feb8d281728ded08f460fac102e59a03a4663eaf8344307c0"
    },
    "kernelspec": {
      "display_name": "Python 3.9.13 64-bit (windows store)",
      "language": "python",
      "name": "python3"
    },
    "language_info": {
      "codemirror_mode": {
        "name": "ipython",
        "version": 3
      },
      "file_extension": ".py",
      "mimetype": "text/x-python",
      "name": "python",
      "nbconvert_exporter": "python",
      "pygments_lexer": "ipython3",
      "version": "3.9.13"
    }
  },
  "nbformat": 4,
  "nbformat_minor": 0
}
